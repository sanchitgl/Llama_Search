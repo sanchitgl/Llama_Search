{
 "cells": [
  {
   "cell_type": "code",
   "execution_count": 1,
   "metadata": {},
   "outputs": [
    {
     "name": "stderr",
     "output_type": "stream",
     "text": [
      "/home/ab/.pyenv/versions/3.11.6/lib/python3.11/site-packages/beir/datasets/data_loader.py:2: TqdmWarning: IProgress not found. Please update jupyter and ipywidgets. See https://ipywidgets.readthedocs.io/en/stable/user_install.html\n",
      "  from tqdm.autonotebook import tqdm\n"
     ]
    }
   ],
   "source": [
    "import pandas as pd\n",
    "from beir.datasets.data_loader import GenericDataLoader\n",
    "from datetime import datetime\n",
    "import os\n",
    "import pickle"
   ]
  },
  {
   "cell_type": "code",
   "execution_count": 2,
   "metadata": {},
   "outputs": [
    {
     "name": "stderr",
     "output_type": "stream",
     "text": [
      "100%|██████████| 5183/5183 [00:00<00:00, 7510.37it/s] \n"
     ]
    }
   ],
   "source": [
    "\n",
    "dataset = \"scifact\"\n",
    "dataset_path = f\"../datasets/{dataset}\"\n",
    "\n",
    "corpus, queries, qrels = GenericDataLoader(dataset_path).load(split=\"test\")"
   ]
  },
  {
   "cell_type": "code",
   "execution_count": 3,
   "metadata": {},
   "outputs": [],
   "source": [
    "\n",
    "def load_distilbert(model_path):\n",
    "    print(\"Loading model ...\")\n",
    "    #################################\n",
    "    # Loading DistilBERT\n",
    "    #################################\n",
    "    from beir.retrieval.evaluation import EvaluateRetrieval\n",
    "    from beir.retrieval import models\n",
    "    from beir.retrieval.search.dense import DenseRetrievalExactSearch as DRES\n",
    "\n",
    "    ## Load retriever from saved model\n",
    "    model = DRES(models.SentenceBERT(model_path), batch_size=256)\n",
    "    retriever = EvaluateRetrieval(model, score_function=\"cos_sim\")\n",
    "    print(\"Model loaded ...\")\n",
    "    return model, retriever\n",
    "\n",
    "\n",
    "def load_distilbert_random():\n",
    "    \n",
    "    model_name = \"distilbert-base-uncased\" \n",
    "    model_save_path = os.path.join(\"../\", \"output\", \"{}-v1-{}\".format(model_name, dataset)) \n",
    "    model, retriever = load_distilbert(model_save_path)\n",
    "    return model, retriever\n",
    "\n",
    "\n",
    "def load_distilbert_bm25():\n",
    "    model_name = \"distilbert-base-uncased\" \n",
    "    model_save_path = os.path.join(os.getcwd(), \"../output\", \"{}-v2-{}-bm25-hard-negs\".format(model_name, dataset))\n",
    "    model, retriever = load_distilbert(model_save_path)\n",
    "    return model, retriever\n",
    "\n",
    "\n",
    "def bm25_get_result(qid):\n",
    "    score_path = \"../datasets/scifact/scifact_bm25_scores.pickle\"\n",
    "\n",
    "    with open(score_path, 'rb') as f:\n",
    "        results_bm25 = pickle.load(f)\n",
    "    \n",
    "    docids = results_bm25[qid]\n",
    "    return {qid: docids}\n",
    "\n",
    "\n",
    "def get_distilbert_r_result(qid, retriever):\n",
    "    new_query = {qid: queries[qid], '0': \"\"}\n",
    "    print(new_query)\n",
    "    dense_result = retriever.retrieve(corpus, new_query)\n",
    "    return dense_result\n",
    "\n",
    "\n",
    "def get_distilbert_bm25_result(qid, retriever):\n",
    "    new_query = {qid: queries[qid], '0': \"\"}\n",
    "    dense_result = retriever.retrieve(corpus, new_query)\n",
    "    return dense_result\n"
   ]
  },
  {
   "cell_type": "code",
   "execution_count": 4,
   "metadata": {},
   "outputs": [],
   "source": [
    "\n",
    "def get_maxmin(results):\n",
    "    max_score = -1\n",
    "    min_score = 999999\n",
    "    for q_id, q in results.items():\n",
    "        for doc_id, score in q.items():\n",
    "            max_score = max(score, max_score)\n",
    "            min_score = min(score, min_score)\n",
    "\n",
    "    return min_score, max_score\n",
    "\n",
    "def ensemble_score(x,y):\n",
    "    mu = 0.5\n",
    "    return mu*x + (1-mu)*y\n",
    "\n",
    "def normalize_results(results, min_score, max_score):\n",
    "    for q_id, q in results.items():\n",
    "        for doc_id, score in q.items():\n",
    "            results[q_id][doc_id] = (score-min_score)/(max_score-min_score)\n",
    "\n",
    "    return results\n",
    "\n",
    "def ensemble_distilbert_bm25(qid, retriever):\n",
    "    #### Retrieve dense results (format of results is identical to qrels)\n",
    "    new_query = {qid: queries[qid], '0': \"\"}\n",
    "    dense_result = retriever.retrieve(corpus, new_query)\n",
    "    bm25_result = bm25_get_result(qid)\n",
    "\n",
    "    # Get range to normalize both\n",
    "    min_distilbert_score, max_distilbert_score = get_maxmin(dense_result)\n",
    "    min_bm25_score, max_bm25_score = get_maxmin(bm25_result)\n",
    "\n",
    "    dense_result = normalize_results(dense_result, min_distilbert_score, max_distilbert_score)\n",
    "    bm25_result = normalize_results(bm25_result, min_bm25_score, max_bm25_score)\n",
    "\n",
    "    combined_result = {}\n",
    "\n",
    "    for q_id_1, q_1 in dense_result.items():\n",
    "        combined_result[q_id_1] = {}\n",
    "        for doc_id_1, score_1 in q_1.items():\n",
    "            \n",
    "            score_2 = 0\n",
    "            if q_id_1 in bm25_result and bm25_result[q_id_1].get(doc_id_1,None)!=None:\n",
    "                score_2 = bm25_result[q_id_1][doc_id_1]\n",
    "                del bm25_result[q_id_1][doc_id_1] # So that same query-doc pair is not added to combined result twice\n",
    "            \n",
    "            combined_score = ensemble_score(score_1, score_2)\n",
    "            combined_result[q_id_1][doc_id_1] = combined_score\n",
    "\n",
    "\n",
    "    # Now add remaining bm25 results in combined dict\n",
    "    for q_id_2, q_2 in bm25_result.items():\n",
    "        for doc_id_2, score_2 in q_2.items():\n",
    "            score_1 = 0\n",
    "            combined_score = ensemble_score(score_1, score_2)\n",
    "            combined_result[q_id_1][doc_id_1] = combined_score\n",
    "            \n",
    "    return combined_result\n",
    "\n",
    "\n"
   ]
  },
  {
   "cell_type": "code",
   "execution_count": 5,
   "metadata": {},
   "outputs": [
    {
     "data": {
      "text/plain": [
       "('1', '0-dimensional biomaterials show inductive properties.')"
      ]
     },
     "execution_count": 5,
     "metadata": {},
     "output_type": "execute_result"
    }
   ],
   "source": [
    "qid, query_text = tuple(queries.items())[0]\n",
    "qid, query_text"
   ]
  },
  {
   "cell_type": "code",
   "execution_count": 6,
   "metadata": {},
   "outputs": [],
   "source": [
    "results = bm25_get_result(qid)"
   ]
  },
  {
   "cell_type": "code",
   "execution_count": 11,
   "metadata": {},
   "outputs": [
    {
     "data": {
      "text/plain": [
       "['10608397',\n",
       " '18953920',\n",
       " '43385013',\n",
       " '34386619',\n",
       " '14827874',\n",
       " '121581019',\n",
       " '42421723',\n",
       " '21257564',\n",
       " '40212412',\n",
       " '31543713']"
      ]
     },
     "execution_count": 11,
     "metadata": {},
     "output_type": "execute_result"
    }
   ],
   "source": [
    "[k for k,v in results[qid].items()][:10]\n",
    "# results[qid]"
   ]
  },
  {
   "cell_type": "code",
   "execution_count": 7,
   "metadata": {},
   "outputs": [],
   "source": [
    "# model, retriever = load_distilbert_random()\n",
    "# results = get_distilbert_r_result(qid, retriever)"
   ]
  },
  {
   "cell_type": "code",
   "execution_count": 8,
   "metadata": {},
   "outputs": [],
   "source": [
    "# model, retriever = load_distilbert_bm25()\n",
    "# results = get_distilbert_bm25_result(qid, retriever)\n",
    "# ndcg, _map, recall, precision = retriever.evaluate(qrels, results, retriever.k_values)\n",
    "# ndcg, _map, recall, precision"
   ]
  },
  {
   "cell_type": "code",
   "execution_count": 43,
   "metadata": {},
   "outputs": [
    {
     "name": "stderr",
     "output_type": "stream",
     "text": [
      "Batches: 100%|██████████| 1/1 [00:00<00:00, 107.28it/s]\n",
      "Batches: 100%|██████████| 21/21 [00:34<00:00,  1.66s/it]\n"
     ]
    },
    {
     "data": {
      "text/plain": [
       "({'NDCG@1': 0.0,\n",
       "  'NDCG@3': 0.0,\n",
       "  'NDCG@5': 0.0,\n",
       "  'NDCG@10': 0.0,\n",
       "  'NDCG@100': 0.25,\n",
       "  'NDCG@1000': 0.25},\n",
       " {'MAP@1': 0.0,\n",
       "  'MAP@3': 0.0,\n",
       "  'MAP@5': 0.0,\n",
       "  'MAP@10': 0.0,\n",
       "  'MAP@100': 0.06667,\n",
       "  'MAP@1000': 0.06667},\n",
       " {'Recall@1': 0.0,\n",
       "  'Recall@3': 0.0,\n",
       "  'Recall@5': 0.0,\n",
       "  'Recall@10': 0.0,\n",
       "  'Recall@100': 1.0,\n",
       "  'Recall@1000': 1.0},\n",
       " {'P@1': 0.0,\n",
       "  'P@3': 0.0,\n",
       "  'P@5': 0.0,\n",
       "  'P@10': 0.0,\n",
       "  'P@100': 0.01,\n",
       "  'P@1000': 0.001})"
      ]
     },
     "execution_count": 43,
     "metadata": {},
     "output_type": "execute_result"
    }
   ],
   "source": [
    "# model, retriever = load_distilbert_random()\n",
    "# results = ensemble_distilbert_bm25(qid, retriever)\n",
    "# ndcg, _map, recall, precision = retriever.evaluate(qrels, results, retriever.k_values)\n",
    "# ndcg, _map, recall, precision"
   ]
  },
  {
   "cell_type": "code",
   "execution_count": 9,
   "metadata": {},
   "outputs": [
    {
     "name": "stdout",
     "output_type": "stream",
     "text": [
      "Loading model ...\n",
      "Model loaded ...\n"
     ]
    },
    {
     "name": "stderr",
     "output_type": "stream",
     "text": [
      "Batches: 100%|██████████| 1/1 [00:05<00:00,  5.16s/it]\n",
      "Batches: 100%|██████████| 21/21 [00:36<00:00,  1.72s/it]\n"
     ]
    },
    {
     "data": {
      "text/plain": [
       "({'NDCG@1': 0.0,\n",
       "  'NDCG@3': 0.0,\n",
       "  'NDCG@5': 0.0,\n",
       "  'NDCG@10': 0.31546,\n",
       "  'NDCG@100': 0.31546,\n",
       "  'NDCG@1000': 0.31546},\n",
       " {'MAP@1': 0.0,\n",
       "  'MAP@3': 0.0,\n",
       "  'MAP@5': 0.0,\n",
       "  'MAP@10': 0.125,\n",
       "  'MAP@100': 0.125,\n",
       "  'MAP@1000': 0.125},\n",
       " {'Recall@1': 0.0,\n",
       "  'Recall@3': 0.0,\n",
       "  'Recall@5': 0.0,\n",
       "  'Recall@10': 1.0,\n",
       "  'Recall@100': 1.0,\n",
       "  'Recall@1000': 1.0},\n",
       " {'P@1': 0.0,\n",
       "  'P@3': 0.0,\n",
       "  'P@5': 0.0,\n",
       "  'P@10': 0.1,\n",
       "  'P@100': 0.01,\n",
       "  'P@1000': 0.001})"
      ]
     },
     "execution_count": 9,
     "metadata": {},
     "output_type": "execute_result"
    }
   ],
   "source": [
    "model, retriever = load_distilbert_bm25()\n",
    "results = ensemble_distilbert_bm25(qid, retriever)\n",
    "ndcg, _map, recall, precision = retriever.evaluate(qrels, results, retriever.k_values)\n",
    "ndcg, _map, recall, precision"
   ]
  },
  {
   "cell_type": "code",
   "execution_count": 11,
   "metadata": {},
   "outputs": [
    {
     "data": {
      "text/plain": [
       "'APOE4 expression in iPSC-derived neurons increases AlphaBeta production and tau phosphorylation causing GABA neuron degeneration.'"
      ]
     },
     "execution_count": 11,
     "metadata": {},
     "output_type": "execute_result"
    }
   ],
   "source": [
    "queries['56']"
   ]
  },
  {
   "cell_type": "code",
   "execution_count": 12,
   "metadata": {},
   "outputs": [
    {
     "data": {
      "text/plain": [
       "{'text': \"Efforts to develop drugs for Alzheimer's disease (AD) have shown promise in animal studies, only to fail in human trials, suggesting a pressing need to study AD in human model systems. Using human neurons derived from induced pluripotent stem cells that expressed apolipoprotein E4 (ApoE4), a variant of the APOE gene product and the major genetic risk factor for AD, we demonstrated that ApoE4-expressing neurons had higher levels of tau phosphorylation, unrelated to their increased production of amyloid-β (Aβ) peptides, and that they displayed GABAergic neuron degeneration. ApoE4 increased Aβ production in human, but not in mouse, neurons. Converting ApoE4 to ApoE3 by gene editing rescued these phenotypes, indicating the specific effects of ApoE4. Neurons that lacked APOE behaved similarly to those expressing ApoE3, and the introduction of ApoE4 expression recapitulated the pathological phenotypes, suggesting a gain of toxic effects from ApoE4. Treatment of ApoE4-expressing neurons with a small-molecule structure corrector ameliorated the detrimental effects, thus showing that correcting the pathogenic conformation of ApoE4 is a viable therapeutic approach for ApoE4-related AD.\",\n",
       " 'title': 'Gain of toxic Apolipoprotein E4 effects in Human iPSC-Derived Neurons Is Ameliorated by a Small-Molecule Structure Corrector'}"
      ]
     },
     "execution_count": 12,
     "metadata": {},
     "output_type": "execute_result"
    }
   ],
   "source": [
    "corpus['4709641']"
   ]
  },
  {
   "cell_type": "code",
   "execution_count": null,
   "metadata": {},
   "outputs": [],
   "source": []
  }
 ],
 "metadata": {
  "kernelspec": {
   "display_name": "Python 3",
   "language": "python",
   "name": "python3"
  },
  "language_info": {
   "codemirror_mode": {
    "name": "ipython",
    "version": 3
   },
   "file_extension": ".py",
   "mimetype": "text/x-python",
   "name": "python",
   "nbconvert_exporter": "python",
   "pygments_lexer": "ipython3",
   "version": "3.11.6"
  }
 },
 "nbformat": 4,
 "nbformat_minor": 2
}
