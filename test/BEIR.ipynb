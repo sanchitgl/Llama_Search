{
  "cells": [
    {
      "cell_type": "markdown",
      "metadata": {
        "id": "bzui28NKNKA1"
      },
      "source": [
        "# **BEIR: A Heterogenous benchmark for Zero-shot Evaluation of Information Retrieval models**\n",
        "\n",
        "This notebook contains an simple and easy examples to evaluate retrieval models from our new benchmark.\n",
        "\n",
        "## Introduction\n",
        "The BEIR benchmark contains 9 diverse retrieval tasks including 17 diverse datasets. We evaluate 9 state-of-the-art retriever models all in a zero-shot evaluation setup. Today, in this colab notebook, we first will show how to download and load the 14 open-sourced datasets with just three lines of code. Afterward, we would load some state-of-the-art dense retrievers (bi-encoders) such as SBERT, ANCE, DPR models and use them for retrieval and evaluate them in a zero-shot setup.\n",
        "\n",
        "Don't hesitate to send us an e-mail or report an issue, if something is broken (and it shouldn't be) or if you have further questions.\n",
        "\n",
        "Developed by Nandan Thakur, Researcher @ UKP Lab, TU Darmstadt\n",
        "\n",
        "(https://nthakur.xyz) (nandant@gmail.com)"
      ]
    },
    {
      "cell_type": "code",
      "execution_count": 1,
      "metadata": {
        "colab": {
          "base_uri": "https://localhost:8080/"
        },
        "id": "AWYQL2sJCKMi",
        "outputId": "1386acf1-a8fa-4d92-9d4d-446d768c5519"
      },
      "outputs": [
        {
          "name": "stdout",
          "output_type": "stream",
          "text": [
            "Tue May 28 19:28:16 2024       \n",
            "+---------------------------------------------------------------------------------------+\n",
            "| NVIDIA-SMI 530.56                 Driver Version: 532.10       CUDA Version: 12.1     |\n",
            "|-----------------------------------------+----------------------+----------------------+\n",
            "| GPU  Name                  Persistence-M| Bus-Id        Disp.A | Volatile Uncorr. ECC |\n",
            "| Fan  Temp  Perf            Pwr:Usage/Cap|         Memory-Usage | GPU-Util  Compute M. |\n",
            "|                                         |                      |               MIG M. |\n",
            "|=========================================+======================+======================|\n",
            "|   0  NVIDIA GeForce RTX 4050 L...    On | 00000000:01:00.0  On |                  N/A |\n",
            "| N/A   47C    P8                2W /  N/A|    499MiB /  6141MiB |      0%      Default |\n",
            "|                                         |                      |                  N/A |\n",
            "+-----------------------------------------+----------------------+----------------------+\n",
            "                                                                                         \n",
            "+---------------------------------------------------------------------------------------+\n",
            "| Processes:                                                                            |\n",
            "|  GPU   GI   CI        PID   Type   Process name                            GPU Memory |\n",
            "|        ID   ID                                                             Usage      |\n",
            "|=======================================================================================|\n",
            "|  No running processes found                                                           |\n",
            "+---------------------------------------------------------------------------------------+\n"
          ]
        }
      ],
      "source": [
        "!nvidia-smi"
      ]
    },
    {
      "cell_type": "code",
      "execution_count": 3,
      "metadata": {
        "colab": {
          "base_uri": "https://localhost:8080/"
        },
        "id": "Zbq2V91bCPxO",
        "outputId": "3ab1e410-4d77-4e43-b8ff-9b5589059c44"
      },
      "outputs": [],
      "source": [
        "# Install the beir PyPI package\n",
        "# !pip install beir"
      ]
    },
    {
      "cell_type": "code",
      "execution_count": 2,
      "metadata": {},
      "outputs": [
        {
          "ename": "ModuleNotFoundError",
          "evalue": "No module named 'beir'",
          "output_type": "error",
          "traceback": [
            "\u001b[0;31m---------------------------------------------------------------------------\u001b[0m",
            "\u001b[0;31mModuleNotFoundError\u001b[0m                       Traceback (most recent call last)",
            "Cell \u001b[0;32mIn[2], line 1\u001b[0m\n\u001b[0;32m----> 1\u001b[0m \u001b[38;5;28;01mimport\u001b[39;00m \u001b[38;5;21;01mbeir\u001b[39;00m\n",
            "\u001b[0;31mModuleNotFoundError\u001b[0m: No module named 'beir'"
          ]
        }
      ],
      "source": [
        "import beir"
      ]
    },
    {
      "cell_type": "code",
      "execution_count": 1,
      "metadata": {},
      "outputs": [
        {
          "name": "stdout",
          "output_type": "stream",
          "text": [
            "pip 23.2.1 from /home/ab/.pyenv/versions/3.11.6/lib/python3.11/site-packages/pip (python 3.11)\n"
          ]
        }
      ],
      "source": [
        "!pip -V"
      ]
    },
    {
      "cell_type": "code",
      "execution_count": 2,
      "metadata": {
        "id": "qr9Ixc_X83IL"
      },
      "outputs": [
        {
          "name": "stderr",
          "output_type": "stream",
          "text": [
            "/home/ab/.pyenv/versions/3.11.6/lib/python3.11/site-packages/beir/util.py:2: TqdmWarning: IProgress not found. Please update jupyter and ipywidgets. See https://ipywidgets.readthedocs.io/en/stable/user_install.html\n",
            "  from tqdm.autonotebook import tqdm\n"
          ]
        }
      ],
      "source": [
        "from beir import util, LoggingHandler\n",
        "\n",
        "import logging\n",
        "import pathlib, os\n",
        "\n",
        "#### Just some code to print debug information to stdout\n",
        "logging.basicConfig(format='%(asctime)s - %(message)s',\n",
        "                    datefmt='%Y-%m-%d %H:%M:%S',\n",
        "                    level=logging.INFO,\n",
        "                    handlers=[LoggingHandler()])\n",
        "#### /print debug information to stdout"
      ]
    },
    {
      "cell_type": "markdown",
      "metadata": {
        "id": "1G6hT73KOzfd"
      },
      "source": [
        "# **BEIR Datasets**\n",
        "\n",
        "BEIR contains 17 diverse datasets overall. You can view all the datasets (14 downloadable) with the link below:\n",
        "\n",
        "[``https://public.ukp.informatik.tu-darmstadt.de/thakur/BEIR/datasets/``](https://public.ukp.informatik.tu-darmstadt.de/thakur/BEIR/datasets/)\n",
        "\n",
        "Please refer GitHub page to evaluate on other datasets (3 of them).\n",
        "\n",
        "\n",
        "We include the following datasets in BEIR:\n",
        "\n",
        "| Dataset   | Website| BEIR-Name | Domain     | Relevancy| Queries  | Documents | Avg. Docs/Q | Download |\n",
        "| -------- | -----| ---------| ----------- | ---------| ---------| --------- | ------| ------------|\n",
        "| MSMARCO    | [``Homepage``](https://microsoft.github.io/msmarco/)| ``msmarco`` | Misc.       |  Binary  |  6,980   |  8.84M     |    1.1 | Yes |  \n",
        "| TREC-COVID |  [``Homepage``](https://ir.nist.gov/covidSubmit/index.html)| ``trec-covid``| Bio-Medical |  3-level|50|  171K| 493.5 | Yes |\n",
        "| NFCorpus   | [``Homepage``](https://www.cl.uni-heidelberg.de/statnlpgroup/nfcorpus/) | ``nfcorpus``  | Bio-Medical |  3-level |  323     |  3.6K     |  38.2 | Yes |\n",
        "| BioASQ     | [``Homepage``](http://bioasq.org) | ``bioasq``| Bio-Medical |  Binary  |   500    |  14.91M    |  8.05 | No |\n",
        "| NQ         | [``Homepage``](https://ai.google.com/research/NaturalQuestions) | ``nq``| Wikipedia   |  Binary  |  3,452   |  2.68M  |  1.2 | Yes |\n",
        "| HotpotQA   | [``Homepage``](https://hotpotqa.github.io) | ``hotpotqa``| Wikipedia   |  Binary  |  7,405   |  5.23M  |  2.0 | Yes |\n",
        "| FiQA-2018  | [``Homepage``](https://sites.google.com/view/fiqa/) | ``fiqa``    | Finance     |  Binary  |  648     |  57K    |  2.6 | Yes |\n",
        "| Signal-1M (RT) | [``Homepage``](https://research.signal-ai.com/datasets/signal1m-tweetir.html)| ``signal1m`` | Twitter     |  3-level  |   97   |  2.86M  |  19.6 | No |\n",
        "| TREC-NEWS  | [``Homepage``](https://trec.nist.gov/data/news2019.html) | ``trec-news``    | News     |  5-level  |   57    |  595K    |  19.6 | No |\n",
        "| ArguAna    | [``Homepage``](http://argumentation.bplaced.net/arguana/data) | ``arguana`` | Misc.       |  Binary  |  1,406     |  8.67K    |  1.0 | Yes |\n",
        "| Touche-2020| [``Homepage``](https://webis.de/events/touche-20/shared-task-1.html) | ``webis-touche2020``| Misc.       |  6-level  |  49     |  382K    |  49.2 |  Yes |\n",
        "| CQADupstack| [``Homepage``](http://nlp.cis.unimelb.edu.au/resources/cqadupstack/) | ``cqadupstack``| StackEx.      |  Binary  |  13,145 |  457K  |  1.4 |  Yes |\n",
        "| Quora| [``Homepage``](https://www.quora.com/q/quoradata/First-Quora-Dataset-Release-Question-Pairs) | ``quora``| Quora  | Binary  |  10,000     |  523K    |  1.6 |  Yes |\n",
        "| DBPedia | [``Homepage``](https://github.com/iai-group/DBpedia-Entity/) | ``dbpedia-entity``| Wikipedia |  3-level  |  400    |  4.63M    |  38.2 |  Yes |\n",
        "| SCIDOCS| [``Homepage``](https://allenai.org/data/scidocs) | ``scidocs``| Scientific |  Binary  |  1,000     |  25K    |  4.9 |  Yes |\n",
        "| FEVER| [``Homepage``](http://fever.ai) | ``fever``| Wikipedia     |  Binary  |  6,666     |  5.42M    |  1.2|  Yes |\n",
        "| Climate-FEVER| [``Homepage``](http://climatefever.ai) | ``climate-fever``| Wikipedia |  Binary  |  1,535     |  5.42M |  3.0 |  Yes |\n",
        "| SciFact| [``Homepage``](https://github.com/allenai/scifact) | ``scifact``| Scientific |  Binary  |  300     |  5K    |  1.1 |  Yes |\n"
      ]
    },
    {
      "cell_type": "markdown",
      "metadata": {
        "id": "J26N5P_2jaQW"
      },
      "source": [
        "For Simplicity, we will show example with the one of the smallest datasets - ``SciFact`` for our example.\n",
        "\n",
        "You can evaluate any dataset you wish by looking at the table above."
      ]
    },
    {
      "cell_type": "code",
      "execution_count": 3,
      "metadata": {
        "colab": {
          "base_uri": "https://localhost:8080/"
        },
        "id": "eoNpMkclCyIt",
        "outputId": "46bf6fb2-dd09-4cf5-ec9d-32f9e2d6301c"
      },
      "outputs": [
        {
          "name": "stdout",
          "output_type": "stream",
          "text": [
            "2024-05-28 19:46:46 - Downloading scifact.zip ...\n"
          ]
        },
        {
          "name": "stderr",
          "output_type": "stream",
          "text": [
            "/mnt/c/D_drive/UCSD/Quarters/Q3/DSC253-Adv_txt_mining/Project/slm4search/test/datasets/scifact.zip: 100%|██████████| 2.69M/2.69M [00:01<00:00, 2.26MiB/s]\n"
          ]
        },
        {
          "name": "stdout",
          "output_type": "stream",
          "text": [
            "2024-05-28 19:46:49 - Unzipping scifact.zip ...\n",
            "Dataset downloaded here: /mnt/c/D_drive/UCSD/Quarters/Q3/DSC253-Adv_txt_mining/Project/slm4search/test/datasets/scifact\n"
          ]
        }
      ],
      "source": [
        "import pathlib, os\n",
        "from beir import util\n",
        "\n",
        "dataset = \"scifact\"\n",
        "url = \"https://public.ukp.informatik.tu-darmstadt.de/thakur/BEIR/datasets/{}.zip\".format(dataset)\n",
        "out_dir = os.path.join(os.getcwd(), \"datasets\")\n",
        "data_path = util.download_and_unzip(url, out_dir)\n",
        "print(\"Dataset downloaded here: {}\".format(data_path))"
      ]
    },
    {
      "cell_type": "markdown",
      "metadata": {
        "id": "RZpOAT0YQEJT"
      },
      "source": [
        "# **Folder Structure of any BEIR dataset**\n",
        "\n",
        "* scifact/\n",
        "    * corpus.jsonl\n",
        "    * queries.jsonl\n",
        "    * qrels/\n",
        "        * train.tsv\n",
        "        * dev.tsv\n",
        "        * test.tsv"
      ]
    },
    {
      "cell_type": "code",
      "execution_count": 4,
      "metadata": {
        "colab": {
          "base_uri": "https://localhost:8080/"
        },
        "id": "TeXB40loEI7y",
        "outputId": "5297f001-db4f-4778-96d7-58030ecb345b"
      },
      "outputs": [
        {
          "name": "stdout",
          "output_type": "stream",
          "text": [
            "corpus.jsonl  qrels  queries.jsonl\n"
          ]
        }
      ],
      "source": [
        "!ls datasets/scifact/"
      ]
    },
    {
      "cell_type": "markdown",
      "metadata": {
        "id": "gB6I0UKeRH9-"
      },
      "source": [
        "# **Data Loading**"
      ]
    },
    {
      "cell_type": "code",
      "execution_count": 5,
      "metadata": {
        "colab": {
          "base_uri": "https://localhost:8080/"
        },
        "id": "EXORqILaEkSz",
        "outputId": "33746ef7-4583-42b7-c77b-3fb3e7707485"
      },
      "outputs": [
        {
          "name": "stdout",
          "output_type": "stream",
          "text": [
            "2024-05-28 19:46:53 - Loading Corpus...\n"
          ]
        },
        {
          "name": "stderr",
          "output_type": "stream",
          "text": [
            "100%|██████████| 5183/5183 [00:00<00:00, 13189.24it/s]\n"
          ]
        },
        {
          "name": "stdout",
          "output_type": "stream",
          "text": [
            "2024-05-28 19:46:54 - Loaded 5183 TEST Documents.\n",
            "2024-05-28 19:46:54 - Doc Example: {'text': 'Alterations of the architecture of cerebral white matter in the developing human brain can affect cortical development and result in functional disabilities. A line scan diffusion-weighted magnetic resonance imaging (MRI) sequence with diffusion tensor analysis was applied to measure the apparent diffusion coefficient, to calculate relative anisotropy, and to delineate three-dimensional fiber architecture in cerebral white matter in preterm (n = 17) and full-term infants (n = 7). To assess effects of prematurity on cerebral white matter development, early gestation preterm infants (n = 10) were studied a second time at term. In the central white matter the mean apparent diffusion coefficient at 28 wk was high, 1.8 microm2/ms, and decreased toward term to 1.2 microm2/ms. In the posterior limb of the internal capsule, the mean apparent diffusion coefficients at both times were similar (1.2 versus 1.1 microm2/ms). Relative anisotropy was higher the closer birth was to term with greater absolute values in the internal capsule than in the central white matter. Preterm infants at term showed higher mean diffusion coefficients in the central white matter (1.4 +/- 0.24 versus 1.15 +/- 0.09 microm2/ms, p = 0.016) and lower relative anisotropy in both areas compared with full-term infants (white matter, 10.9 +/- 0.6 versus 22.9 +/- 3.0%, p = 0.001; internal capsule, 24.0 +/- 4.44 versus 33.1 +/- 0.6% p = 0.006). Nonmyelinated fibers in the corpus callosum were visible by diffusion tensor MRI as early as 28 wk; full-term and preterm infants at term showed marked differences in white matter fiber organization. The data indicate that quantitative assessment of water diffusion by diffusion tensor MRI provides insight into microstructural development in cerebral white matter in living infants.', 'title': 'Microstructural development of human newborn cerebral white matter assessed in vivo by diffusion tensor magnetic resonance imaging.'}\n",
            "2024-05-28 19:46:54 - Loading Queries...\n",
            "2024-05-28 19:46:54 - Loaded 300 TEST Queries.\n",
            "2024-05-28 19:46:54 - Query Example: 0-dimensional biomaterials show inductive properties.\n"
          ]
        }
      ],
      "source": [
        "from beir.datasets.data_loader import GenericDataLoader\n",
        "\n",
        "data_path = \"datasets/scifact\"\n",
        "corpus, queries, qrels = GenericDataLoader(data_path).load(split=\"test\") # or split = \"train\" or \"dev\""
      ]
    },
    {
      "cell_type": "markdown",
      "metadata": {
        "id": "rTdflvK8RqMM"
      },
      "source": [
        "# **Dense Retrieval using Exact Search**\n",
        "\n",
        "## **Sentence-BERT**\n",
        "We use the [``distilbert-base-msmarco-v3``](https://www.sbert.net/docs/pretrained-models/msmarco-v3.html) SBERT model in this example."
      ]
    },
    {
      "cell_type": "code",
      "execution_count": 6,
      "metadata": {
        "colab": {
          "base_uri": "https://localhost:8080/",
          "height": 251,
          "referenced_widgets": [
            "e131bdb7a65c478c80e885fdd176c91d",
            "8d7f27371ce445079a7f4d967f509684",
            "d09db2ff674b49f68c56e0443e992d41",
            "cbc087909f8245ee88fed6acd02cad41",
            "c32f15946fba4fe286157a0986637496",
            "02e82d44f0de4ceea6d7a3fb6a386884",
            "98bb02dd10a44e18824bda49783e1f04",
            "96951650b0ea43319eed1c092a09d80c",
            "e1a77c1636ae43ceb0c93e9a57196d68",
            "da22bfc0bf924a6aa6094b50a0ca69ee",
            "ca5ad7176fec4d569e0dfca78f077961",
            "34ce6ee1956d4b93bf04fcf3bca0d195",
            "8af12510a59545e789896d6e409c9647",
            "cf2d1a5a1d3b45e8a66d599aa58914d8",
            "f3137b91d05d4cdcbfbd9e272da1c435",
            "61458551c1d741cabb19ac7b0231639a"
          ]
        },
        "id": "B2X_deOMFxJB",
        "outputId": "327beb86-4d8a-425d-bf2d-515986149c79"
      },
      "outputs": [
        {
          "name": "stdout",
          "output_type": "stream",
          "text": [
            "2024-05-28 19:46:59 - PyTorch version 2.3.0 available.\n",
            "2024-05-28 19:46:59 - JAX version 0.4.23 available.\n",
            "2024-05-28 19:47:00 - Loading faiss with AVX2 support.\n",
            "2024-05-28 19:47:00 - Successfully loaded faiss with AVX2 support.\n",
            "2024-05-28 19:47:04 - Use pytorch device_name: cuda\n",
            "2024-05-28 19:47:04 - Load pretrained SentenceTransformer: msmarco-distilbert-base-v3\n"
          ]
        },
        {
          "name": "stderr",
          "output_type": "stream",
          "text": [
            "/home/ab/.pyenv/versions/3.11.6/lib/python3.11/site-packages/huggingface_hub/file_download.py:1132: FutureWarning: `resume_download` is deprecated and will be removed in version 1.0.0. Downloads always resume when possible. If you want to force a new download, use `force_download=True`.\n",
            "  warnings.warn(\n"
          ]
        },
        {
          "name": "stdout",
          "output_type": "stream",
          "text": [
            "2024-05-28 19:48:26 - Encoding Queries...\n"
          ]
        },
        {
          "name": "stderr",
          "output_type": "stream",
          "text": [
            "Batches: 100%|██████████| 3/3 [00:22<00:00,  7.52s/it]\n"
          ]
        },
        {
          "name": "stdout",
          "output_type": "stream",
          "text": [
            "2024-05-28 19:48:49 - Sorting Corpus by document length (Longest first)...\n",
            "2024-05-28 19:48:49 - Encoding Corpus in batches... Warning: This might take a while!\n",
            "2024-05-28 19:48:49 - Scoring Function: Cosine Similarity (cos_sim)\n",
            "2024-05-28 19:48:49 - Encoding Batch 1/1...\n"
          ]
        },
        {
          "name": "stderr",
          "output_type": "stream",
          "text": [
            "Batches: 100%|██████████| 41/41 [00:47<00:00,  1.16s/it]\n"
          ]
        }
      ],
      "source": [
        "from beir.retrieval.evaluation import EvaluateRetrieval\n",
        "from beir.retrieval import models\n",
        "from beir.retrieval.search.dense import DenseRetrievalExactSearch as DRES\n",
        "\n",
        "#### Dense Retrieval using SBERT (Sentence-BERT) ####\n",
        "#### Provide any pretrained sentence-transformers model\n",
        "#### The model was fine-tuned using cosine-similarity.\n",
        "#### Complete list - https://www.sbert.net/docs/pretrained_models.html\n",
        "\n",
        "model = DRES(models.SentenceBERT(\"msmarco-distilbert-base-v3\"), batch_size=128)\n",
        "retriever = EvaluateRetrieval(model, score_function=\"cos_sim\")\n",
        "\n",
        "#### Retrieve dense results (format of results is identical to qrels)\n",
        "results = retriever.retrieve(corpus, queries)"
      ]
    },
    {
      "cell_type": "code",
      "execution_count": 7,
      "metadata": {
        "colab": {
          "base_uri": "https://localhost:8080/"
        },
        "id": "tyC5x24k9ipJ",
        "outputId": "41885bf4-e69e-4825-9571-da593baa92a1"
      },
      "outputs": [
        {
          "name": "stdout",
          "output_type": "stream",
          "text": [
            "2024-05-28 19:50:41 - Retriever evaluation for k in: [1, 3, 5, 10, 100, 1000]\n",
            "2024-05-28 19:50:41 - For evaluation, we ignore identical query and document ids (default), please explicitly set ``ignore_identical_ids=False`` to ignore this.\n",
            "2024-05-28 19:50:41 - \n",
            "\n",
            "2024-05-28 19:50:41 - NDCG@1: 0.4233\n",
            "2024-05-28 19:50:41 - NDCG@3: 0.4842\n",
            "2024-05-28 19:50:41 - NDCG@5: 0.5104\n",
            "2024-05-28 19:50:41 - NDCG@10: 0.5379\n",
            "2024-05-28 19:50:41 - NDCG@100: 0.5759\n",
            "2024-05-28 19:50:41 - NDCG@1000: 0.5913\n",
            "2024-05-28 19:50:41 - \n",
            "\n",
            "2024-05-28 19:50:41 - MAP@1: 0.3994\n",
            "2024-05-28 19:50:41 - MAP@3: 0.4593\n",
            "2024-05-28 19:50:41 - MAP@5: 0.4768\n",
            "2024-05-28 19:50:41 - MAP@10: 0.4889\n",
            "2024-05-28 19:50:41 - MAP@100: 0.4974\n",
            "2024-05-28 19:50:41 - MAP@1000: 0.4980\n",
            "2024-05-28 19:50:41 - \n",
            "\n",
            "2024-05-28 19:50:41 - Recall@1: 0.3994\n",
            "2024-05-28 19:50:41 - Recall@3: 0.5256\n",
            "2024-05-28 19:50:41 - Recall@5: 0.5887\n",
            "2024-05-28 19:50:41 - Recall@10: 0.6723\n",
            "2024-05-28 19:50:41 - Recall@100: 0.8460\n",
            "2024-05-28 19:50:41 - Recall@1000: 0.9683\n",
            "2024-05-28 19:50:41 - \n",
            "\n",
            "2024-05-28 19:50:41 - P@1: 0.4233\n",
            "2024-05-28 19:50:41 - P@3: 0.1933\n",
            "2024-05-28 19:50:41 - P@5: 0.1333\n",
            "2024-05-28 19:50:41 - P@10: 0.0757\n",
            "2024-05-28 19:50:41 - P@100: 0.0096\n",
            "2024-05-28 19:50:41 - P@1000: 0.0011\n"
          ]
        }
      ],
      "source": [
        "#### Evaluate your retrieval using NDCG@k, MAP@K ...\n",
        "\n",
        "logging.info(\"Retriever evaluation for k in: {}\".format(retriever.k_values))\n",
        "ndcg, _map, recall, precision = retriever.evaluate(qrels, results, retriever.k_values)"
      ]
    },
    {
      "cell_type": "code",
      "execution_count": 8,
      "metadata": {
        "colab": {
          "base_uri": "https://localhost:8080/"
        },
        "id": "ak1ow4Qh_RxT",
        "outputId": "5d27e822-f469-48a3-8ae5-d6137006ac81"
      },
      "outputs": [
        {
          "name": "stdout",
          "output_type": "stream",
          "text": [
            "2024-05-28 19:50:47 - Query : FoxO3a activation in neuronal death is mediated by reactive oxygen species (ROS).\n",
            "\n",
            "2024-05-28 19:50:47 - Rank 1: 4418070 [Novel Foxo1-dependent transcriptional programs control Treg cell function] - Regulatory T (Treg) cells, characterized by expression of the transcription factor forkhead box P3 (Foxp3), maintain immune homeostasis by suppressing self-destructive immune responses. Foxp3 operates as a late-acting differentiation factor controlling Treg cell homeostasis and function, whereas the early Treg-cell-lineage commitment is regulated by the Akt kinase and the forkhead box O (Foxo) family of transcription factors. However, whether Foxo proteins act beyond the Treg-cell-commitment stage to control Treg cell homeostasis and function remains largely unexplored. Here we show that Foxo1 is a pivotal regulator of Treg cell function. Treg cells express high amounts of Foxo1 and display reduced T-cell-receptor-induced Akt activation, Foxo1 phosphorylation and Foxo1 nuclear exclusion. Mice with Treg-cell-specific deletion of Foxo1 develop a fatal inflammatory disorder similar in severity to that seen in Foxp3-deficient mice, but without the loss of Treg cells. Genome-wide analysis of Foxo1 binding sites reveals ∼300 Foxo1-bound target genes, including the pro-inflammatory cytokine Ifng, that do not seem to be directly regulated by Foxp3. These findings show that the evolutionarily ancient Akt–Foxo1 signalling module controls a novel genetic program indispensable for Treg cell function.\n",
            "\n",
            "2024-05-28 19:50:47 - Rank 2: 23100962 [Nitric oxide synthase generates superoxide and nitric oxide in arginine-depleted cells leading to peroxynitrite-mediated cellular injury.] - Besides synthesizing nitric oxide (NO), purified neuronal NO synthase (nNOS) can produce superoxide (.O2-) at lower L-Arg concentrations. By using electron paramagnetic resonance spin-trapping techniques, we monitored NO and .O2- formation in nNOS-transfected human kidney 293 cells. In control transfected cells, the Ca2+ ionophore A23187 triggered NO generation but no .O2- was seen. With cells in L-Arg-free medium, we observed .O2- formation that increased as the cytosolic L-Arg levels decreased, while NO generation declined. .O2- formation was virtually abolished by the specific NOS blocker, N-nitro-L-arginine methyl ester (L-NAME). Nitrotyrosine, a specific nitration product of peroxynitrite, accumulated in L-Arg-depleted cells but not in control cells. Activation by A23187 was cytotoxic to L-Arg-depleted, but not to control cells, with marked lactate dehydrogenase release. The cytotoxicity was largely prevented by either superoxide dismutase or L-NAME. Thus, with reduced L-Arg availability NOS elicits cytotoxicity by generating .O2- and NO that interact to form the potent oxidant peroxynitrite. Regulating arginine levels may provide a therapeutic approach to disorders involving .O2-/NO-mediated cellular injury.\n",
            "\n",
            "2024-05-28 19:50:47 - Rank 3: 29429111 [Transcriptional regulation of neuronal genes and its effect on neural functions: expression and function of forkhead transcription factors in neurons.] - Forkhead box transcription factor, class O (FOXO) is a mammalian homologue of DAF-16, which is known to regulate the lifespan of Caenorhabditis elegans and includes subfamilies of forkhead transcription factors such as AFX, FKHRL1, and FKHR. FKHR is phosphorylated on three sites (Thr-24, Ser-256, and Ser-319) in a phosphatidylinositol 3-kinase (PI3K)/Akt-dependent manner, thereby inhibiting death signals. We here documented dephosphorylation of FKHR following transient forebrain ischemia with its concomitant translocation into the nucleus in neurons in gerbil and mouse brains. The activation of FKHR preceded delayed neuronal death in the vulnerable hippocampal regions following ischemic brain injury. The FKHR activation was accompanied by an increase in DNA binding activity for FKHR-responsive element on the Fas ligand promoter. We also defined FKHR-induced downstream targets such as Fas ligand and Bim in brain ischemia. Therefore, we propose a new strategy to rescue neurons from delayed neuronal death by promoting the survival signaling. Sodium orthovanadate, a protein tyrosine phosphatase inhibitor, up-regulated Akt activity in the brain and in turn rescue neurons from delayed neuronal death by inhibiting FKHR-dependent or -independent death signals in neurons.\n",
            "\n",
            "2024-05-28 19:50:47 - Rank 4: 14496749 [A Conserved MST-FOXO Signaling Pathway Mediates Oxidative-Stress Responses and Extends Life Span] - Oxidative stress influences cell survival and homeostasis, but the mechanisms underlying the biological effects of oxidative stress remain to be elucidated. Here, we demonstrate that the protein kinase MST1 mediates oxidative-stress-induced cell death in primary mammalian neurons by directly activating the FOXO transcription factors. MST1 phosphorylates FOXO proteins at a conserved site within the forkhead domain that disrupts their interaction with 14-3-3 proteins, promotes FOXO nuclear translocation, and thereby induces cell death in neurons. We also extend the MST-FOXO signaling link to nematodes. Knockdown of the C. elegans MST1 ortholog CST-1 shortens life span and accelerates tissue aging, while overexpression of cst-1 promotes life span and delays aging. The cst-1-induced life-span extension occurs in a daf-16-dependent manner. The identification of the FOXO transcription factors as major and evolutionarily conserved targets of MST1 suggests that MST kinases play important roles in diverse biological processes including cellular responses to oxidative stress and longevity.\n",
            "\n",
            "2024-05-28 19:50:47 - Rank 5: 9393969 [DAF-16/FOXO employs the chromatin remodeller SWI/SNF to promote stress resistance and longevity] - Organisms are constantly challenged by stresses and privations and require adaptive responses for their survival. The forkhead box O (FOXO) transcription factor DAF-16 (hereafter referred to as DAF-16/FOXO) is a central nexus in these responses, but despite its importance little is known about how it regulates its target genes. Proteomic identification of DAF-16/FOXO-binding partners in Caenorhabditis elegans and their subsequent functional evaluation by RNA interference revealed several candidate DAF-16/FOXO cofactors, most notably the chromatin remodeller SWI/SNF. DAF-16/FOXO and SWI/SNF form a complex and globally co-localize at DAF-16/FOXO target promoters. We show that specifically for gene activation, DAF-16/FOXO depends on SWI/SNF, facilitating SWI/SNF recruitment to target promoters, to activate transcription by presumed remodelling of local chromatin. For the animal, this translates into an essential role for SWI/SNF in DAF-16/FOXO-mediated processes, in particular dauer formation, stress resistance and the promotion of longevity. Thus, we give insight into the mechanisms of DAF-16/FOXO-mediated transcriptional regulation and establish a critical link between ATP-dependent chromatin remodelling and lifespan regulation.\n",
            "\n",
            "2024-05-28 19:50:47 - Rank 6: 16728949 [Cell Stem Cell Review FoxO Transcription Factors and Stem Cell Homeostasis: Insights from the Hematopoietic System] - The forkhead O (FoxO) family of transcription factors participates in diverse physiologic processes, including induction of cell-cycle arrest, stress resistance, differentiation, apoptosis, and metabolism. Several recent studies indicate that FoxO-dependent signaling is required for long-term regenerative potential of the hematopoietic stem cell (HSC) compartment through regulation of HSC response to physiologic oxidative stress, quiescence, and survival. These observations link FoxO function in mammalian systems with the evolutionarily conserved role of FoxO in promotion of stress resistance and longevity in lower phylogenetic systems. Furthermore, these findings have implications for aging in higher organisms and in malignant stem cell biology, and suggest that FoxOs may play an important role in the maintenance and integrity of stem cell compartments in a broad spectrum of tissues.\n",
            "\n",
            "2024-05-28 19:50:47 - Rank 7: 9752604 [Activated AMPK boosts the Nrf2/HO-1 signaling axis—A role for the unfolded protein response] - In light of the emerging interplay between redox and metabolic signaling pathways we investigated the potential cross talk between nuclear factor E2-related factor 2 (Nrf2) and AMP-activated kinase (AMPK), central regulators of the cellular redox and energy balance, respectively. Making use of xanthohumol (XN) as an activator of both the AMPK and the Nrf2 signaling pathway we show that AMPK exerts a positive influence on Nrf2/heme oxygenase (HO)-1 signaling in mouse embryonic fibroblasts. Genetic ablation and pharmacological inhibition of AMPK blunts Nrf2-dependent HO-1 expression by XN already at the mRNA level. XN leads to AMPK activation via interference with mitochondrial function and activation of liver kinase B1 as upstream AMPK kinase. The subsequent AMPK-mediated enhancement of the Nrf2/HO-1 response does not depend on inhibition of the mammalian target of rapamycin, inhibition of glycogen synthase kinase 3β, or altered abundance of Nrf2 (total and nuclear). However, reduced endoplasmic reticulum stress was identified and elaborated as a step in the AMPK-augmented Nrf2/HO-1 response. Overall, we shed more light on the hitherto incompletely understood cross talk between the LKB1/AMPK and the Nrf2/HO-1 axis revealing for the first time involvement of the unfolded protein response as an additional player and suggesting tight cooperation between signaling pathways controlling cellular redox, energy, or protein homeostasis.\n",
            "\n",
            "2024-05-28 19:50:47 - Rank 8: 30471052 [Neurogenin3: a master regulator of pancreatic islet differentiation and regeneration.] - The basic helix-loop-helix transcription factor neurogenin-3 (Ngn3, Neurog3) is critical for the development of the endocrine cells of the islets. Either disrupted or forced expression of Ngn3 early in mouse pancreas development abrogates the formation of islets. The successive waves of Ngn3 expression that occur during the primary and secondary transitions of endocrine cell development temporally determine the four distinct endocrine cell lineages, α, β, PP, and δ cells that express glucagon, insulin, pancreatic polypeptide, and somatostatin, respectively. During islet regeneration after injury of the adult mouse pancreas, such as by duct ligation or streptozotocin, Ngn3 is activated in duct-associated stem/progenitor cells that transform into alpha and/or beta cells (Xu et al, Collombat et al). The important role of Ngn3 as a master regulator of endocrine pancreas development directs attention to finding therapeutic approaches to enhance Ngn3 expression in diabetes as a means to increase beta cell mass and functions.\n",
            "\n",
            "2024-05-28 19:50:47 - Rank 9: 6368017 [Loss of sex discrimination and male-male aggression in mice deficient for TRP2.] - The mouse vomeronasal organ (VNO) is thought to mediate social behaviors and neuroendocrine changes elicited by pheromonal cues. The molecular mechanisms underlying the sensory response to pheromones and the behavioral repertoire induced through the VNO are not fully characterized. Using the tools of mouse genetics and multielectrode recording, we demonstrate that the sensory activation of VNO neurons requires TRP2, a putative ion channel of the transient receptor potential family that is expressed exclusively in these neurons. Moreover, we show that male mice deficient in TRP2 expression fail to display male-male aggression, and they initiate sexual and courtship behaviors toward both males and females. Our study suggests that, in the mouse, sensory activation of the VNO is essential for sex discrimination of conspecifics and thus ensures gender-specific behavior.\n",
            "\n",
            "2024-05-28 19:50:47 - Rank 10: 26851674 [Dissection of signaling cascades through gp130 in vivo: reciprocal roles for STAT3- and SHP2-mediated signals in immune responses.] - We generated a series of knockin mouse lines, in which the cytokine receptor gp130-dependent STAT3 and/or SHP2 signals were disrupted, by replacing the mouse gp130 gene with human gp130 mutant cDNAs. The SHP2 signal-deficient mice (gp130F759/F759 were born normal but displayed splenomegaly and lymphadenopathy and an enhanced acute phase reaction. In contrast, the STAT3 signal-deficient mice (gp130FXQ/FXXQ) died perinatally, like the gp130-deficient mice (gp130D/D). The gp130F759/F759 mice showed prolonged gp130-induced STAT3 activation, indicating a negative regulatory role for SHP2. Th1-type cytokine production and IgG2a and IgG2b production were increased in the gp130F759/F759 mice, while they were decreased in the gp130FXXQ/FXXQ immune system. These results indicate that the balance of positive and negative signals generated through gp130 regulates the immune responses.\n",
            "\n"
          ]
        }
      ],
      "source": [
        "import random\n",
        "\n",
        "#### Print top-k documents retrieved ####\n",
        "top_k = 10\n",
        "\n",
        "query_id, ranking_scores = random.choice(list(results.items()))\n",
        "scores_sorted = sorted(ranking_scores.items(), key=lambda item: item[1], reverse=True)\n",
        "logging.info(\"Query : %s\\n\" % queries[query_id])\n",
        "\n",
        "for rank in range(top_k):\n",
        "    doc_id = scores_sorted[rank][0]\n",
        "    # Format: Rank x: ID [Title] Body\n",
        "    logging.info(\"Rank %d: %s [%s] - %s\\n\" % (rank+1, doc_id, corpus[doc_id].get(\"title\"), corpus[doc_id].get(\"text\")))"
      ]
    },
    {
      "cell_type": "markdown",
      "metadata": {
        "id": "UMaqM0MSSZjy"
      },
      "source": [
        "## **ANCE**\n",
        "\n",
        "We use the [``msmarco-roberta-base-ance-fristp``](https://www.sbert.net/docs/pretrained-models/msmarco-v3.html) ANCE model which was fine-tuned on MSMARCO dataset for 600K steps."
      ]
    },
    {
      "cell_type": "code",
      "execution_count": 9,
      "metadata": {
        "colab": {
          "base_uri": "https://localhost:8080/",
          "height": 337,
          "referenced_widgets": [
            "80af88ab84c94c86a317e741945fb007",
            "a995330792ae45358c576b0c5d2f66b7",
            "df04b30fa03b4b71ac8045e346b41d93",
            "36206923d4404d64b1fe98180c9b6e20",
            "c8ced75b6d4a48cd94ce424e985d8f00",
            "bdaeacfceb1f4e20a397e87353077cf3",
            "f39b5446bb0e4da3a7ef3a95d2ab0b69",
            "1c5fc15d1c2548ce9f37283eb3b06a50",
            "5fad24491a394799987a69b5a844923c",
            "9feca99a0eac4a67a4bc53e8b52793a2",
            "2ca6199ce63c4d2897ad8bf204103ca2",
            "8b001b35b123426682d1cf118147efe6",
            "642c76a148224e5eb82491d8385726e2",
            "6ddc45a220354d6aae30a2d85e81285f",
            "51e7407bf69d45038f306ae6863a7600",
            "a6e9327f4cb94bb68595f24c0c05ce81",
            "7bbaa89b27204404a33693df48348b0b",
            "fe53b820fc90428ea5f6b715c3051b7f",
            "279f940d093f4a5a85a71148350ecf0d",
            "4357165ed95742679cbcf8164a4a5eda",
            "9285c136f78c4c17af18b9bebd8e6bdc",
            "4b3d4d297c34468a87de10133ae65b70",
            "260fdeafc7ed47d993cebeef85b8a139",
            "51a95fbd92574e53a3283656c4767f8d"
          ]
        },
        "id": "GM4a02VKTZNj",
        "outputId": "ddf5edb0-ab4b-4fd7-e811-d6862d1e4c86"
      },
      "outputs": [],
      "source": [
        "# #### Dense Retrieval using ANCE ####\n",
        "# # https://www.sbert.net/docs/pretrained-models/msmarco-v3.html\n",
        "# # MSMARCO Dev Passage Retrieval ANCE(FirstP) 600K model from ANCE.\n",
        "# # The ANCE model was fine-tuned using dot-product (dot) function.\n",
        "\n",
        "# model = DRES(models.SentenceBERT(\"msmarco-roberta-base-ance-fristp\"))\n",
        "# retriever = EvaluateRetrieval(model, score_function=\"dot\")\n",
        "\n",
        "# #### Retrieve dense results (format of results is identical to qrels)\n",
        "# results = retriever.retrieve(corpus, queries)"
      ]
    },
    {
      "cell_type": "code",
      "execution_count": 10,
      "metadata": {
        "colab": {
          "base_uri": "https://localhost:8080/"
        },
        "id": "j3toDuc__G6P",
        "outputId": "e8862904-8f17-4bde-a20a-fe0f5beeea30"
      },
      "outputs": [],
      "source": [
        "# #### Evaluate your retrieval using NDCG@k, MAP@K ...\n",
        "\n",
        "# logging.info(\"Retriever evaluation for k in: {}\".format(retriever.k_values))\n",
        "# ndcg, _map, recall, precision = retriever.evaluate(qrels, results, retriever.k_values)"
      ]
    },
    {
      "cell_type": "markdown",
      "metadata": {
        "id": "nqotyXuIBPt6"
      },
      "source": [
        "# **Lexical Retrieval using BM25 (Elasticsearch)**\n",
        "\n",
        "## 1. Download and setup the Elasticsearch instance\n",
        "Reference: https://colab.research.google.com/github/tensorflow/io/blob/master/docs/tutorials/elasticsearch.ipynb\n",
        "\n",
        "For demo purposes, the open-source version of the elasticsearch package is used."
      ]
    },
    {
      "cell_type": "code",
      "execution_count": 11,
      "metadata": {
        "colab": {
          "base_uri": "https://localhost:8080/"
        },
        "id": "doQU8m_UBFOY",
        "outputId": "573d2b28-2f63-4d4b-a379-0cfda1c3a4ed"
      },
      "outputs": [],
      "source": [
        "# %%bash\n",
        "\n",
        "# wget https://artifacts.elastic.co/downloads/elasticsearch/elasticsearch-oss-7.9.2-linux-x86_64.tar.gz\n",
        "# wget https://artifacts.elastic.co/downloads/elasticsearch/elasticsearch-oss-7.9.2-linux-x86_64.tar.gz.sha512\n",
        "# tar -xzf elasticsearch-oss-7.9.2-linux-x86_64.tar.gz\n",
        "# sudo chown -R daemon:daemon elasticsearch-7.9.2/\n",
        "# shasum -a 512 -c elasticsearch-oss-7.9.2-linux-x86_64.tar.gz.sha512"
      ]
    },
    {
      "cell_type": "markdown",
      "metadata": {
        "id": "DruoaeGPBxg0"
      },
      "source": [
        "Run the instance as a daemon process\n"
      ]
    },
    {
      "cell_type": "code",
      "execution_count": 19,
      "metadata": {
        "colab": {
          "base_uri": "https://localhost:8080/"
        },
        "id": "JVZCVh-VBFDg",
        "outputId": "d6957943-6dd4-47a4-935c-d5d1cb4d708f"
      },
      "outputs": [
        {
          "ename": "SyntaxError",
          "evalue": "invalid syntax (2349466733.py, line 3)",
          "output_type": "error",
          "traceback": [
            "\u001b[0;36m  Cell \u001b[0;32mIn[19], line 3\u001b[0;36m\u001b[0m\n\u001b[0;31m    sudo -H -u daemon elasticsearch-7.9.2/bin/elasticsearch\u001b[0m\n\u001b[0m               ^\u001b[0m\n\u001b[0;31mSyntaxError\u001b[0m\u001b[0;31m:\u001b[0m invalid syntax\n"
          ]
        }
      ],
      "source": [
        "# %%bash --bg\n",
        "\n",
        "# sudo -H -u daemon elasticsearch-7.9.2/bin/elasticsearch"
      ]
    },
    {
      "cell_type": "code",
      "execution_count": null,
      "metadata": {
        "id": "O6A3xsNtBE6B"
      },
      "outputs": [],
      "source": [
        "# import time\n",
        "\n",
        "# # Sleep for few seconds to let the instance start.\n",
        "# time.sleep(20)"
      ]
    },
    {
      "cell_type": "markdown",
      "metadata": {
        "id": "9zLrT3zNCAoW"
      },
      "source": [
        "Once the instance has been started, grep for ``elasticsearch`` in the processes list to confirm the availability."
      ]
    },
    {
      "cell_type": "code",
      "execution_count": null,
      "metadata": {
        "colab": {
          "base_uri": "https://localhost:8080/"
        },
        "id": "Pz84EzxmBEmV",
        "outputId": "e70f7559-b065-4dc6-9af6-098e41ed5f32"
      },
      "outputs": [],
      "source": [
        "%%bash\n",
        "\n",
        "ps -ef | grep elasticsearch"
      ]
    },
    {
      "cell_type": "code",
      "execution_count": null,
      "metadata": {},
      "outputs": [],
      "source": [
        "# 127.0.0.1:9300"
      ]
    },
    {
      "cell_type": "code",
      "execution_count": 36,
      "metadata": {
        "colab": {
          "base_uri": "https://localhost:8080/"
        },
        "id": "T6ASWFOGCLEm",
        "outputId": "c762129f-cf95-46b8-97fa-6c541ae18dde"
      },
      "outputs": [
        {
          "name": "stdout",
          "output_type": "stream",
          "text": [
            "{\n",
            "  \"name\" : \"ab\",\n",
            "  \"cluster_name\" : \"elasticsearch\",\n",
            "  \"cluster_uuid\" : \"JS2mz8c3RdOol8iLxCkFHA\",\n",
            "  \"version\" : {\n"
          ]
        },
        {
          "name": "stdout",
          "output_type": "stream",
          "text": [
            "    \"number\" : \"7.9.2\",\n",
            "    \"build_flavor\" : \"oss\",\n",
            "    \"build_type\" : \"tar\",\n",
            "    \"build_hash\" : \"d34da0ea4a966c4e49417f2da2f244e3e97b4e6e\",\n",
            "    \"build_date\" : \"2020-09-23T00:45:33.626720Z\",\n",
            "    \"build_snapshot\" : false,\n",
            "    \"lucene_version\" : \"8.6.2\",\n",
            "    \"minimum_wire_compatibility_version\" : \"6.8.0\",\n",
            "    \"minimum_index_compatibility_version\" : \"6.0.0-beta1\"\n",
            "  },\n",
            "  \"tagline\" : \"You Know, for Search\"\n",
            "}\n"
          ]
        }
      ],
      "source": [
        "%%bash\n",
        "\n",
        "curl -sX GET \"localhost:9200/\"\n"
      ]
    },
    {
      "cell_type": "code",
      "execution_count": 37,
      "metadata": {
        "colab": {
          "base_uri": "https://localhost:8080/"
        },
        "id": "nqP2F4IKCloh",
        "outputId": "c626234b-dcd8-4fd9-84a1-266d8fc7bc92"
      },
      "outputs": [
        {
          "name": "stderr",
          "output_type": "stream",
          "text": [
            "  0%|          | 0/5183 [09:58<?, ?docs/s]"
          ]
        },
        {
          "name": "stdout",
          "output_type": "stream",
          "text": [
            "2024-05-28 20:22:29 - Activating Elasticsearch....\n",
            "2024-05-28 20:22:29 - Elastic Search Credentials: {'hostname': 'localhost', 'index_name': 'scifact', 'keys': {'title': 'title', 'body': 'txt'}, 'timeout': 100, 'retry_on_timeout': True, 'maxsize': 24, 'number_of_shards': 'default', 'language': 'english'}\n",
            "2024-05-28 20:22:29 - Deleting previous Elasticsearch-Index named - scifact\n"
          ]
        },
        {
          "name": "stderr",
          "output_type": "stream",
          "text": [
            "  0%|          | 0/5183 [10:00<?, ?docs/s]"
          ]
        },
        {
          "name": "stdout",
          "output_type": "stream",
          "text": [
            "2024-05-28 20:22:31 - Creating fresh Elasticsearch-Index named - scifact\n"
          ]
        },
        {
          "name": "stderr",
          "output_type": "stream",
          "text": [
            "  0%|          | 0/5183 [00:00<?, ?docs/s]\n",
            "que: 100%|██████████| 3/3 [00:02<00:00,  1.07it/s]\n"
          ]
        }
      ],
      "source": [
        "from beir.retrieval.search.lexical import BM25Search as BM25\n",
        "from beir.retrieval.evaluation import EvaluateRetrieval\n",
        "\n",
        "#### Provide parameters for elastic-search\n",
        "hostname = \"localhost\"\n",
        "index_name = \"scifact\"\n",
        "initialize = True # True, will delete existing index with same name and reindex all documents\n",
        "\n",
        "model = BM25(index_name=index_name, hostname=hostname, initialize=initialize)\n",
        "retriever = EvaluateRetrieval(model)\n",
        "\n",
        "#### Retrieve dense results (format of results is identical to qrels)\n",
        "results = retriever.retrieve(corpus, queries)"
      ]
    },
    {
      "cell_type": "code",
      "execution_count": 38,
      "metadata": {
        "colab": {
          "base_uri": "https://localhost:8080/"
        },
        "id": "yJcCpUCFClis",
        "outputId": "c5ae7611-5ae4-4e42-86db-4c329e8e5ee0"
      },
      "outputs": [
        {
          "name": "stderr",
          "output_type": "stream",
          "text": [
            "  0%|          | 0/5183 [10:16<?, ?docs/s]"
          ]
        },
        {
          "name": "stdout",
          "output_type": "stream",
          "text": [
            "2024-05-28 20:22:47 - For evaluation, we ignore identical query and document ids (default), please explicitly set ``ignore_identical_ids=False`` to ignore this.\n",
            "2024-05-28 20:22:47 - \n",
            "\n",
            "2024-05-28 20:22:47 - NDCG@1: 0.5767\n",
            "2024-05-28 20:22:47 - NDCG@3: 0.6366\n",
            "2024-05-28 20:22:47 - NDCG@5: 0.6652\n",
            "2024-05-28 20:22:47 - NDCG@10: 0.6906\n",
            "2024-05-28 20:22:47 - NDCG@100: 0.7134\n",
            "2024-05-28 20:22:47 - NDCG@1000: 0.7212\n",
            "2024-05-28 20:22:47 - \n",
            "\n",
            "2024-05-28 20:22:47 - MAP@1: 0.5559\n",
            "2024-05-28 20:22:47 - MAP@3: 0.6143\n",
            "2024-05-28 20:22:47 - MAP@5: 0.6312\n",
            "2024-05-28 20:22:47 - MAP@10: 0.6437\n",
            "2024-05-28 20:22:47 - MAP@100: 0.6492\n",
            "2024-05-28 20:22:47 - MAP@1000: 0.6495\n",
            "2024-05-28 20:22:47 - \n",
            "\n",
            "2024-05-28 20:22:47 - Recall@1: 0.5559\n",
            "2024-05-28 20:22:47 - Recall@3: 0.6793\n",
            "2024-05-28 20:22:47 - Recall@5: 0.7479\n",
            "2024-05-28 20:22:47 - Recall@10: 0.8198\n",
            "2024-05-28 20:22:47 - Recall@100: 0.9192\n",
            "2024-05-28 20:22:47 - Recall@1000: 0.9800\n",
            "2024-05-28 20:22:47 - \n",
            "\n",
            "2024-05-28 20:22:47 - P@1: 0.5767\n",
            "2024-05-28 20:22:47 - P@3: 0.2411\n",
            "2024-05-28 20:22:47 - P@5: 0.1620\n",
            "2024-05-28 20:22:47 - P@10: 0.0907\n",
            "2024-05-28 20:22:47 - P@100: 0.0104\n",
            "2024-05-28 20:22:47 - P@1000: 0.0011\n"
          ]
        },
        {
          "ename": "",
          "evalue": "",
          "output_type": "error",
          "traceback": [
            "\u001b[1;31mThe Kernel crashed while executing code in the current cell or a previous cell. \n",
            "\u001b[1;31mPlease review the code in the cell(s) to identify a possible cause of the failure. \n",
            "\u001b[1;31mClick <a href='https://aka.ms/vscodeJupyterKernelCrash'>here</a> for more info. \n",
            "\u001b[1;31mView Jupyter <a href='command:jupyter.viewOutput'>log</a> for further details."
          ]
        }
      ],
      "source": [
        "#### Evaluate your retrieval using NDCG@k, MAP@K ...\n",
        "ndcg, _map, recall, precision = retriever.evaluate(qrels, results, retriever.k_values)"
      ]
    },
    {
      "cell_type": "markdown",
      "metadata": {
        "id": "wfiEjuXAATkZ"
      },
      "source": [
        "# **Reranking BM25 using Cross-Encoder**\n",
        "\n",
        "In this example, we rerank the top-20 documents retrieved from BM25, using ([cross-encoder/ms-marco-electra-base](https://www.sbert.net/docs/pretrained-models/ce-msmarco.html)) SBERT cross-encoder model"
      ]
    },
    {
      "cell_type": "code",
      "execution_count": null,
      "metadata": {
        "colab": {
          "base_uri": "https://localhost:8080/",
          "height": 100,
          "referenced_widgets": [
            "022256eee56f4d6fb6a8e595426296fc",
            "4cfe0ecadaff4f3eb0e219570ebdb9a8",
            "a89266c1a2a44215922242a145e5f697",
            "4ae2dd4354a744d5a643967aba01946c",
            "5b6677b79ba6436b97773d68602d09b7",
            "143940feda034ae9bb0fecfd2d280f16",
            "8cdb93401e0847d99677be35d75f80f2",
            "d23c27d7b9e24fa6a98c990d80e9bc6e"
          ]
        },
        "id": "ILM1SNXdAGhn",
        "outputId": "8cdc9b51-cd3b-4b6b-d016-efba409a05cb"
      },
      "outputs": [
        {
          "name": "stdout",
          "output_type": "stream",
          "text": [
            "2021-04-20 16:14:39 - Use pytorch device: cuda\n",
            "2021-04-20 16:14:39 - Starting To Rerank Top-20....\n"
          ]
        },
        {
          "data": {
            "application/vnd.jupyter.widget-view+json": {
              "model_id": "022256eee56f4d6fb6a8e595426296fc",
              "version_major": 2,
              "version_minor": 0
            },
            "text/plain": [
              "HBox(children=(FloatProgress(value=0.0, description='Batches', max=47.0, style=ProgressStyle(description_width…"
            ]
          },
          "metadata": {
            "tags": []
          },
          "output_type": "display_data"
        },
        {
          "name": "stdout",
          "output_type": "stream",
          "text": [
            "\n"
          ]
        }
      ],
      "source": [
        "from beir.reranking.models import CrossEncoder\n",
        "from beir.reranking import Rerank\n",
        "\n",
        "#### Reranking using Cross-Encoder models (list: )\n",
        "cross_encoder_model = CrossEncoder('cross-encoder/ms-marco-electra-base')\n",
        "reranker = Rerank(cross_encoder_model, batch_size=128)\n",
        "\n",
        "# Rerank top-100 results using the reranker provided\n",
        "rerank_results = reranker.rerank(corpus, queries, results, top_k=20)"
      ]
    },
    {
      "cell_type": "code",
      "execution_count": null,
      "metadata": {
        "colab": {
          "base_uri": "https://localhost:8080/"
        },
        "id": "tC2L6VWtAS5J",
        "outputId": "282f1c2e-e5b2-494b-ed8d-7890e166f8f8"
      },
      "outputs": [
        {
          "name": "stdout",
          "output_type": "stream",
          "text": [
            "2021-04-20 16:19:08 - \n",
            "\n",
            "2021-04-20 16:19:08 - NDCG@1: 0.5733\n",
            "2021-04-20 16:19:08 - NDCG@3: 0.6314\n",
            "2021-04-20 16:19:08 - NDCG@5: 0.6520\n",
            "2021-04-20 16:19:08 - NDCG@10: 0.6720\n",
            "2021-04-20 16:19:08 - NDCG@100: 0.6780\n",
            "2021-04-20 16:19:08 - NDCG@1000: 0.6780\n",
            "2021-04-20 16:19:08 - \n",
            "\n",
            "2021-04-20 16:19:08 - MAP@1: 0.5451\n",
            "2021-04-20 16:19:08 - MAP@3: 0.6074\n",
            "2021-04-20 16:19:08 - MAP@5: 0.6216\n",
            "2021-04-20 16:19:08 - MAP@10: 0.6307\n",
            "2021-04-20 16:19:08 - MAP@100: 0.6324\n",
            "2021-04-20 16:19:08 - MAP@1000: 0.6324\n",
            "2021-04-20 16:19:08 - \n",
            "\n",
            "2021-04-20 16:19:08 - Recall@1: 0.5451\n",
            "2021-04-20 16:19:08 - Recall@3: 0.6758\n",
            "2021-04-20 16:19:08 - Recall@5: 0.7260\n",
            "2021-04-20 16:19:08 - Recall@10: 0.7844\n",
            "2021-04-20 16:19:08 - Recall@100: 0.8078\n",
            "2021-04-20 16:19:08 - Recall@1000: 0.8078\n",
            "2021-04-20 16:19:08 - \n",
            "\n",
            "2021-04-20 16:19:08 - P@1: 0.5733\n",
            "2021-04-20 16:19:08 - P@3: 0.2444\n",
            "2021-04-20 16:19:08 - P@5: 0.1613\n",
            "2021-04-20 16:19:08 - P@10: 0.0880\n",
            "2021-04-20 16:19:08 - P@100: 0.0090\n",
            "2021-04-20 16:19:08 - P@1000: 0.0009\n"
          ]
        }
      ],
      "source": [
        "#### Evaluate your retrieval using NDCG@k, MAP@K ...\n",
        "ndcg, _map, recall, precision = EvaluateRetrieval.evaluate(qrels, rerank_results, retriever.k_values)"
      ]
    }
  ],
  "metadata": {
    "accelerator": "GPU",
    "colab": {
      "provenance": []
    },
    "kernelspec": {
      "display_name": "Python 3",
      "name": "python3"
    },
    "language_info": {
      "codemirror_mode": {
        "name": "ipython",
        "version": 3
      },
      "file_extension": ".py",
      "mimetype": "text/x-python",
      "name": "python",
      "nbconvert_exporter": "python",
      "pygments_lexer": "ipython3",
      "version": "3.11.6"
    },
    "widgets": {
      "application/vnd.jupyter.widget-state+json": {
        "022256eee56f4d6fb6a8e595426296fc": {
          "model_module": "@jupyter-widgets/controls",
          "model_module_version": "1.5.0",
          "model_name": "HBoxModel",
          "state": {
            "_dom_classes": [],
            "_model_module": "@jupyter-widgets/controls",
            "_model_module_version": "1.5.0",
            "_model_name": "HBoxModel",
            "_view_count": null,
            "_view_module": "@jupyter-widgets/controls",
            "_view_module_version": "1.5.0",
            "_view_name": "HBoxView",
            "box_style": "",
            "children": [
              "IPY_MODEL_a89266c1a2a44215922242a145e5f697",
              "IPY_MODEL_4ae2dd4354a744d5a643967aba01946c"
            ],
            "layout": "IPY_MODEL_4cfe0ecadaff4f3eb0e219570ebdb9a8"
          }
        },
        "02e82d44f0de4ceea6d7a3fb6a386884": {
          "model_module": "@jupyter-widgets/base",
          "model_module_version": "1.2.0",
          "model_name": "LayoutModel",
          "state": {
            "_model_module": "@jupyter-widgets/base",
            "_model_module_version": "1.2.0",
            "_model_name": "LayoutModel",
            "_view_count": null,
            "_view_module": "@jupyter-widgets/base",
            "_view_module_version": "1.2.0",
            "_view_name": "LayoutView",
            "align_content": null,
            "align_items": null,
            "align_self": null,
            "border": null,
            "bottom": null,
            "display": null,
            "flex": null,
            "flex_flow": null,
            "grid_area": null,
            "grid_auto_columns": null,
            "grid_auto_flow": null,
            "grid_auto_rows": null,
            "grid_column": null,
            "grid_gap": null,
            "grid_row": null,
            "grid_template_areas": null,
            "grid_template_columns": null,
            "grid_template_rows": null,
            "height": null,
            "justify_content": null,
            "justify_items": null,
            "left": null,
            "margin": null,
            "max_height": null,
            "max_width": null,
            "min_height": null,
            "min_width": null,
            "object_fit": null,
            "object_position": null,
            "order": null,
            "overflow": null,
            "overflow_x": null,
            "overflow_y": null,
            "padding": null,
            "right": null,
            "top": null,
            "visibility": null,
            "width": null
          }
        },
        "143940feda034ae9bb0fecfd2d280f16": {
          "model_module": "@jupyter-widgets/base",
          "model_module_version": "1.2.0",
          "model_name": "LayoutModel",
          "state": {
            "_model_module": "@jupyter-widgets/base",
            "_model_module_version": "1.2.0",
            "_model_name": "LayoutModel",
            "_view_count": null,
            "_view_module": "@jupyter-widgets/base",
            "_view_module_version": "1.2.0",
            "_view_name": "LayoutView",
            "align_content": null,
            "align_items": null,
            "align_self": null,
            "border": null,
            "bottom": null,
            "display": null,
            "flex": null,
            "flex_flow": null,
            "grid_area": null,
            "grid_auto_columns": null,
            "grid_auto_flow": null,
            "grid_auto_rows": null,
            "grid_column": null,
            "grid_gap": null,
            "grid_row": null,
            "grid_template_areas": null,
            "grid_template_columns": null,
            "grid_template_rows": null,
            "height": null,
            "justify_content": null,
            "justify_items": null,
            "left": null,
            "margin": null,
            "max_height": null,
            "max_width": null,
            "min_height": null,
            "min_width": null,
            "object_fit": null,
            "object_position": null,
            "order": null,
            "overflow": null,
            "overflow_x": null,
            "overflow_y": null,
            "padding": null,
            "right": null,
            "top": null,
            "visibility": null,
            "width": null
          }
        },
        "1c5fc15d1c2548ce9f37283eb3b06a50": {
          "model_module": "@jupyter-widgets/base",
          "model_module_version": "1.2.0",
          "model_name": "LayoutModel",
          "state": {
            "_model_module": "@jupyter-widgets/base",
            "_model_module_version": "1.2.0",
            "_model_name": "LayoutModel",
            "_view_count": null,
            "_view_module": "@jupyter-widgets/base",
            "_view_module_version": "1.2.0",
            "_view_name": "LayoutView",
            "align_content": null,
            "align_items": null,
            "align_self": null,
            "border": null,
            "bottom": null,
            "display": null,
            "flex": null,
            "flex_flow": null,
            "grid_area": null,
            "grid_auto_columns": null,
            "grid_auto_flow": null,
            "grid_auto_rows": null,
            "grid_column": null,
            "grid_gap": null,
            "grid_row": null,
            "grid_template_areas": null,
            "grid_template_columns": null,
            "grid_template_rows": null,
            "height": null,
            "justify_content": null,
            "justify_items": null,
            "left": null,
            "margin": null,
            "max_height": null,
            "max_width": null,
            "min_height": null,
            "min_width": null,
            "object_fit": null,
            "object_position": null,
            "order": null,
            "overflow": null,
            "overflow_x": null,
            "overflow_y": null,
            "padding": null,
            "right": null,
            "top": null,
            "visibility": null,
            "width": null
          }
        },
        "260fdeafc7ed47d993cebeef85b8a139": {
          "model_module": "@jupyter-widgets/controls",
          "model_module_version": "1.5.0",
          "model_name": "DescriptionStyleModel",
          "state": {
            "_model_module": "@jupyter-widgets/controls",
            "_model_module_version": "1.5.0",
            "_model_name": "DescriptionStyleModel",
            "_view_count": null,
            "_view_module": "@jupyter-widgets/base",
            "_view_module_version": "1.2.0",
            "_view_name": "StyleView",
            "description_width": ""
          }
        },
        "279f940d093f4a5a85a71148350ecf0d": {
          "model_module": "@jupyter-widgets/controls",
          "model_module_version": "1.5.0",
          "model_name": "FloatProgressModel",
          "state": {
            "_dom_classes": [],
            "_model_module": "@jupyter-widgets/controls",
            "_model_module_version": "1.5.0",
            "_model_name": "FloatProgressModel",
            "_view_count": null,
            "_view_module": "@jupyter-widgets/controls",
            "_view_module_version": "1.5.0",
            "_view_name": "ProgressView",
            "bar_style": "success",
            "description": "Batches: 100%",
            "description_tooltip": null,
            "layout": "IPY_MODEL_4b3d4d297c34468a87de10133ae65b70",
            "max": 41,
            "min": 0,
            "orientation": "horizontal",
            "style": "IPY_MODEL_9285c136f78c4c17af18b9bebd8e6bdc",
            "value": 41
          }
        },
        "2ca6199ce63c4d2897ad8bf204103ca2": {
          "model_module": "@jupyter-widgets/controls",
          "model_module_version": "1.5.0",
          "model_name": "FloatProgressModel",
          "state": {
            "_dom_classes": [],
            "_model_module": "@jupyter-widgets/controls",
            "_model_module_version": "1.5.0",
            "_model_name": "FloatProgressModel",
            "_view_count": null,
            "_view_module": "@jupyter-widgets/controls",
            "_view_module_version": "1.5.0",
            "_view_name": "ProgressView",
            "bar_style": "success",
            "description": "Batches: 100%",
            "description_tooltip": null,
            "layout": "IPY_MODEL_6ddc45a220354d6aae30a2d85e81285f",
            "max": 3,
            "min": 0,
            "orientation": "horizontal",
            "style": "IPY_MODEL_642c76a148224e5eb82491d8385726e2",
            "value": 3
          }
        },
        "34ce6ee1956d4b93bf04fcf3bca0d195": {
          "model_module": "@jupyter-widgets/controls",
          "model_module_version": "1.5.0",
          "model_name": "HTMLModel",
          "state": {
            "_dom_classes": [],
            "_model_module": "@jupyter-widgets/controls",
            "_model_module_version": "1.5.0",
            "_model_name": "HTMLModel",
            "_view_count": null,
            "_view_module": "@jupyter-widgets/controls",
            "_view_module_version": "1.5.0",
            "_view_name": "HTMLView",
            "description": "",
            "description_tooltip": null,
            "layout": "IPY_MODEL_61458551c1d741cabb19ac7b0231639a",
            "placeholder": "​",
            "style": "IPY_MODEL_f3137b91d05d4cdcbfbd9e272da1c435",
            "value": " 41/41 [29:03&lt;00:00, 42.52s/it]"
          }
        },
        "36206923d4404d64b1fe98180c9b6e20": {
          "model_module": "@jupyter-widgets/controls",
          "model_module_version": "1.5.0",
          "model_name": "HTMLModel",
          "state": {
            "_dom_classes": [],
            "_model_module": "@jupyter-widgets/controls",
            "_model_module_version": "1.5.0",
            "_model_name": "HTMLModel",
            "_view_count": null,
            "_view_module": "@jupyter-widgets/controls",
            "_view_module_version": "1.5.0",
            "_view_name": "HTMLView",
            "description": "",
            "description_tooltip": null,
            "layout": "IPY_MODEL_1c5fc15d1c2548ce9f37283eb3b06a50",
            "placeholder": "​",
            "style": "IPY_MODEL_f39b5446bb0e4da3a7ef3a95d2ab0b69",
            "value": " 465M/465M [00:22&lt;00:00, 20.7MB/s]"
          }
        },
        "4357165ed95742679cbcf8164a4a5eda": {
          "model_module": "@jupyter-widgets/controls",
          "model_module_version": "1.5.0",
          "model_name": "HTMLModel",
          "state": {
            "_dom_classes": [],
            "_model_module": "@jupyter-widgets/controls",
            "_model_module_version": "1.5.0",
            "_model_name": "HTMLModel",
            "_view_count": null,
            "_view_module": "@jupyter-widgets/controls",
            "_view_module_version": "1.5.0",
            "_view_name": "HTMLView",
            "description": "",
            "description_tooltip": null,
            "layout": "IPY_MODEL_51a95fbd92574e53a3283656c4767f8d",
            "placeholder": "​",
            "style": "IPY_MODEL_260fdeafc7ed47d993cebeef85b8a139",
            "value": " 41/41 [20:07&lt;00:00, 29.46s/it]"
          }
        },
        "4ae2dd4354a744d5a643967aba01946c": {
          "model_module": "@jupyter-widgets/controls",
          "model_module_version": "1.5.0",
          "model_name": "HTMLModel",
          "state": {
            "_dom_classes": [],
            "_model_module": "@jupyter-widgets/controls",
            "_model_module_version": "1.5.0",
            "_model_name": "HTMLModel",
            "_view_count": null,
            "_view_module": "@jupyter-widgets/controls",
            "_view_module_version": "1.5.0",
            "_view_name": "HTMLView",
            "description": "",
            "description_tooltip": null,
            "layout": "IPY_MODEL_d23c27d7b9e24fa6a98c990d80e9bc6e",
            "placeholder": "​",
            "style": "IPY_MODEL_8cdb93401e0847d99677be35d75f80f2",
            "value": " 47/47 [04:19&lt;00:00,  5.52s/it]"
          }
        },
        "4b3d4d297c34468a87de10133ae65b70": {
          "model_module": "@jupyter-widgets/base",
          "model_module_version": "1.2.0",
          "model_name": "LayoutModel",
          "state": {
            "_model_module": "@jupyter-widgets/base",
            "_model_module_version": "1.2.0",
            "_model_name": "LayoutModel",
            "_view_count": null,
            "_view_module": "@jupyter-widgets/base",
            "_view_module_version": "1.2.0",
            "_view_name": "LayoutView",
            "align_content": null,
            "align_items": null,
            "align_self": null,
            "border": null,
            "bottom": null,
            "display": null,
            "flex": null,
            "flex_flow": null,
            "grid_area": null,
            "grid_auto_columns": null,
            "grid_auto_flow": null,
            "grid_auto_rows": null,
            "grid_column": null,
            "grid_gap": null,
            "grid_row": null,
            "grid_template_areas": null,
            "grid_template_columns": null,
            "grid_template_rows": null,
            "height": null,
            "justify_content": null,
            "justify_items": null,
            "left": null,
            "margin": null,
            "max_height": null,
            "max_width": null,
            "min_height": null,
            "min_width": null,
            "object_fit": null,
            "object_position": null,
            "order": null,
            "overflow": null,
            "overflow_x": null,
            "overflow_y": null,
            "padding": null,
            "right": null,
            "top": null,
            "visibility": null,
            "width": null
          }
        },
        "4cfe0ecadaff4f3eb0e219570ebdb9a8": {
          "model_module": "@jupyter-widgets/base",
          "model_module_version": "1.2.0",
          "model_name": "LayoutModel",
          "state": {
            "_model_module": "@jupyter-widgets/base",
            "_model_module_version": "1.2.0",
            "_model_name": "LayoutModel",
            "_view_count": null,
            "_view_module": "@jupyter-widgets/base",
            "_view_module_version": "1.2.0",
            "_view_name": "LayoutView",
            "align_content": null,
            "align_items": null,
            "align_self": null,
            "border": null,
            "bottom": null,
            "display": null,
            "flex": null,
            "flex_flow": null,
            "grid_area": null,
            "grid_auto_columns": null,
            "grid_auto_flow": null,
            "grid_auto_rows": null,
            "grid_column": null,
            "grid_gap": null,
            "grid_row": null,
            "grid_template_areas": null,
            "grid_template_columns": null,
            "grid_template_rows": null,
            "height": null,
            "justify_content": null,
            "justify_items": null,
            "left": null,
            "margin": null,
            "max_height": null,
            "max_width": null,
            "min_height": null,
            "min_width": null,
            "object_fit": null,
            "object_position": null,
            "order": null,
            "overflow": null,
            "overflow_x": null,
            "overflow_y": null,
            "padding": null,
            "right": null,
            "top": null,
            "visibility": null,
            "width": null
          }
        },
        "51a95fbd92574e53a3283656c4767f8d": {
          "model_module": "@jupyter-widgets/base",
          "model_module_version": "1.2.0",
          "model_name": "LayoutModel",
          "state": {
            "_model_module": "@jupyter-widgets/base",
            "_model_module_version": "1.2.0",
            "_model_name": "LayoutModel",
            "_view_count": null,
            "_view_module": "@jupyter-widgets/base",
            "_view_module_version": "1.2.0",
            "_view_name": "LayoutView",
            "align_content": null,
            "align_items": null,
            "align_self": null,
            "border": null,
            "bottom": null,
            "display": null,
            "flex": null,
            "flex_flow": null,
            "grid_area": null,
            "grid_auto_columns": null,
            "grid_auto_flow": null,
            "grid_auto_rows": null,
            "grid_column": null,
            "grid_gap": null,
            "grid_row": null,
            "grid_template_areas": null,
            "grid_template_columns": null,
            "grid_template_rows": null,
            "height": null,
            "justify_content": null,
            "justify_items": null,
            "left": null,
            "margin": null,
            "max_height": null,
            "max_width": null,
            "min_height": null,
            "min_width": null,
            "object_fit": null,
            "object_position": null,
            "order": null,
            "overflow": null,
            "overflow_x": null,
            "overflow_y": null,
            "padding": null,
            "right": null,
            "top": null,
            "visibility": null,
            "width": null
          }
        },
        "51e7407bf69d45038f306ae6863a7600": {
          "model_module": "@jupyter-widgets/controls",
          "model_module_version": "1.5.0",
          "model_name": "DescriptionStyleModel",
          "state": {
            "_model_module": "@jupyter-widgets/controls",
            "_model_module_version": "1.5.0",
            "_model_name": "DescriptionStyleModel",
            "_view_count": null,
            "_view_module": "@jupyter-widgets/base",
            "_view_module_version": "1.2.0",
            "_view_name": "StyleView",
            "description_width": ""
          }
        },
        "5b6677b79ba6436b97773d68602d09b7": {
          "model_module": "@jupyter-widgets/controls",
          "model_module_version": "1.5.0",
          "model_name": "ProgressStyleModel",
          "state": {
            "_model_module": "@jupyter-widgets/controls",
            "_model_module_version": "1.5.0",
            "_model_name": "ProgressStyleModel",
            "_view_count": null,
            "_view_module": "@jupyter-widgets/base",
            "_view_module_version": "1.2.0",
            "_view_name": "StyleView",
            "bar_color": null,
            "description_width": "initial"
          }
        },
        "5fad24491a394799987a69b5a844923c": {
          "model_module": "@jupyter-widgets/controls",
          "model_module_version": "1.5.0",
          "model_name": "HBoxModel",
          "state": {
            "_dom_classes": [],
            "_model_module": "@jupyter-widgets/controls",
            "_model_module_version": "1.5.0",
            "_model_name": "HBoxModel",
            "_view_count": null,
            "_view_module": "@jupyter-widgets/controls",
            "_view_module_version": "1.5.0",
            "_view_name": "HBoxView",
            "box_style": "",
            "children": [
              "IPY_MODEL_2ca6199ce63c4d2897ad8bf204103ca2",
              "IPY_MODEL_8b001b35b123426682d1cf118147efe6"
            ],
            "layout": "IPY_MODEL_9feca99a0eac4a67a4bc53e8b52793a2"
          }
        },
        "61458551c1d741cabb19ac7b0231639a": {
          "model_module": "@jupyter-widgets/base",
          "model_module_version": "1.2.0",
          "model_name": "LayoutModel",
          "state": {
            "_model_module": "@jupyter-widgets/base",
            "_model_module_version": "1.2.0",
            "_model_name": "LayoutModel",
            "_view_count": null,
            "_view_module": "@jupyter-widgets/base",
            "_view_module_version": "1.2.0",
            "_view_name": "LayoutView",
            "align_content": null,
            "align_items": null,
            "align_self": null,
            "border": null,
            "bottom": null,
            "display": null,
            "flex": null,
            "flex_flow": null,
            "grid_area": null,
            "grid_auto_columns": null,
            "grid_auto_flow": null,
            "grid_auto_rows": null,
            "grid_column": null,
            "grid_gap": null,
            "grid_row": null,
            "grid_template_areas": null,
            "grid_template_columns": null,
            "grid_template_rows": null,
            "height": null,
            "justify_content": null,
            "justify_items": null,
            "left": null,
            "margin": null,
            "max_height": null,
            "max_width": null,
            "min_height": null,
            "min_width": null,
            "object_fit": null,
            "object_position": null,
            "order": null,
            "overflow": null,
            "overflow_x": null,
            "overflow_y": null,
            "padding": null,
            "right": null,
            "top": null,
            "visibility": null,
            "width": null
          }
        },
        "642c76a148224e5eb82491d8385726e2": {
          "model_module": "@jupyter-widgets/controls",
          "model_module_version": "1.5.0",
          "model_name": "ProgressStyleModel",
          "state": {
            "_model_module": "@jupyter-widgets/controls",
            "_model_module_version": "1.5.0",
            "_model_name": "ProgressStyleModel",
            "_view_count": null,
            "_view_module": "@jupyter-widgets/base",
            "_view_module_version": "1.2.0",
            "_view_name": "StyleView",
            "bar_color": null,
            "description_width": "initial"
          }
        },
        "6ddc45a220354d6aae30a2d85e81285f": {
          "model_module": "@jupyter-widgets/base",
          "model_module_version": "1.2.0",
          "model_name": "LayoutModel",
          "state": {
            "_model_module": "@jupyter-widgets/base",
            "_model_module_version": "1.2.0",
            "_model_name": "LayoutModel",
            "_view_count": null,
            "_view_module": "@jupyter-widgets/base",
            "_view_module_version": "1.2.0",
            "_view_name": "LayoutView",
            "align_content": null,
            "align_items": null,
            "align_self": null,
            "border": null,
            "bottom": null,
            "display": null,
            "flex": null,
            "flex_flow": null,
            "grid_area": null,
            "grid_auto_columns": null,
            "grid_auto_flow": null,
            "grid_auto_rows": null,
            "grid_column": null,
            "grid_gap": null,
            "grid_row": null,
            "grid_template_areas": null,
            "grid_template_columns": null,
            "grid_template_rows": null,
            "height": null,
            "justify_content": null,
            "justify_items": null,
            "left": null,
            "margin": null,
            "max_height": null,
            "max_width": null,
            "min_height": null,
            "min_width": null,
            "object_fit": null,
            "object_position": null,
            "order": null,
            "overflow": null,
            "overflow_x": null,
            "overflow_y": null,
            "padding": null,
            "right": null,
            "top": null,
            "visibility": null,
            "width": null
          }
        },
        "7bbaa89b27204404a33693df48348b0b": {
          "model_module": "@jupyter-widgets/controls",
          "model_module_version": "1.5.0",
          "model_name": "HBoxModel",
          "state": {
            "_dom_classes": [],
            "_model_module": "@jupyter-widgets/controls",
            "_model_module_version": "1.5.0",
            "_model_name": "HBoxModel",
            "_view_count": null,
            "_view_module": "@jupyter-widgets/controls",
            "_view_module_version": "1.5.0",
            "_view_name": "HBoxView",
            "box_style": "",
            "children": [
              "IPY_MODEL_279f940d093f4a5a85a71148350ecf0d",
              "IPY_MODEL_4357165ed95742679cbcf8164a4a5eda"
            ],
            "layout": "IPY_MODEL_fe53b820fc90428ea5f6b715c3051b7f"
          }
        },
        "80af88ab84c94c86a317e741945fb007": {
          "model_module": "@jupyter-widgets/controls",
          "model_module_version": "1.5.0",
          "model_name": "HBoxModel",
          "state": {
            "_dom_classes": [],
            "_model_module": "@jupyter-widgets/controls",
            "_model_module_version": "1.5.0",
            "_model_name": "HBoxModel",
            "_view_count": null,
            "_view_module": "@jupyter-widgets/controls",
            "_view_module_version": "1.5.0",
            "_view_name": "HBoxView",
            "box_style": "",
            "children": [
              "IPY_MODEL_df04b30fa03b4b71ac8045e346b41d93",
              "IPY_MODEL_36206923d4404d64b1fe98180c9b6e20"
            ],
            "layout": "IPY_MODEL_a995330792ae45358c576b0c5d2f66b7"
          }
        },
        "8af12510a59545e789896d6e409c9647": {
          "model_module": "@jupyter-widgets/controls",
          "model_module_version": "1.5.0",
          "model_name": "ProgressStyleModel",
          "state": {
            "_model_module": "@jupyter-widgets/controls",
            "_model_module_version": "1.5.0",
            "_model_name": "ProgressStyleModel",
            "_view_count": null,
            "_view_module": "@jupyter-widgets/base",
            "_view_module_version": "1.2.0",
            "_view_name": "StyleView",
            "bar_color": null,
            "description_width": "initial"
          }
        },
        "8b001b35b123426682d1cf118147efe6": {
          "model_module": "@jupyter-widgets/controls",
          "model_module_version": "1.5.0",
          "model_name": "HTMLModel",
          "state": {
            "_dom_classes": [],
            "_model_module": "@jupyter-widgets/controls",
            "_model_module_version": "1.5.0",
            "_model_name": "HTMLModel",
            "_view_count": null,
            "_view_module": "@jupyter-widgets/controls",
            "_view_module_version": "1.5.0",
            "_view_name": "HTMLView",
            "description": "",
            "description_tooltip": null,
            "layout": "IPY_MODEL_a6e9327f4cb94bb68595f24c0c05ce81",
            "placeholder": "​",
            "style": "IPY_MODEL_51e7407bf69d45038f306ae6863a7600",
            "value": " 3/3 [00:54&lt;00:00, 18.31s/it]"
          }
        },
        "8cdb93401e0847d99677be35d75f80f2": {
          "model_module": "@jupyter-widgets/controls",
          "model_module_version": "1.5.0",
          "model_name": "DescriptionStyleModel",
          "state": {
            "_model_module": "@jupyter-widgets/controls",
            "_model_module_version": "1.5.0",
            "_model_name": "DescriptionStyleModel",
            "_view_count": null,
            "_view_module": "@jupyter-widgets/base",
            "_view_module_version": "1.2.0",
            "_view_name": "StyleView",
            "description_width": ""
          }
        },
        "8d7f27371ce445079a7f4d967f509684": {
          "model_module": "@jupyter-widgets/base",
          "model_module_version": "1.2.0",
          "model_name": "LayoutModel",
          "state": {
            "_model_module": "@jupyter-widgets/base",
            "_model_module_version": "1.2.0",
            "_model_name": "LayoutModel",
            "_view_count": null,
            "_view_module": "@jupyter-widgets/base",
            "_view_module_version": "1.2.0",
            "_view_name": "LayoutView",
            "align_content": null,
            "align_items": null,
            "align_self": null,
            "border": null,
            "bottom": null,
            "display": null,
            "flex": null,
            "flex_flow": null,
            "grid_area": null,
            "grid_auto_columns": null,
            "grid_auto_flow": null,
            "grid_auto_rows": null,
            "grid_column": null,
            "grid_gap": null,
            "grid_row": null,
            "grid_template_areas": null,
            "grid_template_columns": null,
            "grid_template_rows": null,
            "height": null,
            "justify_content": null,
            "justify_items": null,
            "left": null,
            "margin": null,
            "max_height": null,
            "max_width": null,
            "min_height": null,
            "min_width": null,
            "object_fit": null,
            "object_position": null,
            "order": null,
            "overflow": null,
            "overflow_x": null,
            "overflow_y": null,
            "padding": null,
            "right": null,
            "top": null,
            "visibility": null,
            "width": null
          }
        },
        "9285c136f78c4c17af18b9bebd8e6bdc": {
          "model_module": "@jupyter-widgets/controls",
          "model_module_version": "1.5.0",
          "model_name": "ProgressStyleModel",
          "state": {
            "_model_module": "@jupyter-widgets/controls",
            "_model_module_version": "1.5.0",
            "_model_name": "ProgressStyleModel",
            "_view_count": null,
            "_view_module": "@jupyter-widgets/base",
            "_view_module_version": "1.2.0",
            "_view_name": "StyleView",
            "bar_color": null,
            "description_width": "initial"
          }
        },
        "96951650b0ea43319eed1c092a09d80c": {
          "model_module": "@jupyter-widgets/base",
          "model_module_version": "1.2.0",
          "model_name": "LayoutModel",
          "state": {
            "_model_module": "@jupyter-widgets/base",
            "_model_module_version": "1.2.0",
            "_model_name": "LayoutModel",
            "_view_count": null,
            "_view_module": "@jupyter-widgets/base",
            "_view_module_version": "1.2.0",
            "_view_name": "LayoutView",
            "align_content": null,
            "align_items": null,
            "align_self": null,
            "border": null,
            "bottom": null,
            "display": null,
            "flex": null,
            "flex_flow": null,
            "grid_area": null,
            "grid_auto_columns": null,
            "grid_auto_flow": null,
            "grid_auto_rows": null,
            "grid_column": null,
            "grid_gap": null,
            "grid_row": null,
            "grid_template_areas": null,
            "grid_template_columns": null,
            "grid_template_rows": null,
            "height": null,
            "justify_content": null,
            "justify_items": null,
            "left": null,
            "margin": null,
            "max_height": null,
            "max_width": null,
            "min_height": null,
            "min_width": null,
            "object_fit": null,
            "object_position": null,
            "order": null,
            "overflow": null,
            "overflow_x": null,
            "overflow_y": null,
            "padding": null,
            "right": null,
            "top": null,
            "visibility": null,
            "width": null
          }
        },
        "98bb02dd10a44e18824bda49783e1f04": {
          "model_module": "@jupyter-widgets/controls",
          "model_module_version": "1.5.0",
          "model_name": "DescriptionStyleModel",
          "state": {
            "_model_module": "@jupyter-widgets/controls",
            "_model_module_version": "1.5.0",
            "_model_name": "DescriptionStyleModel",
            "_view_count": null,
            "_view_module": "@jupyter-widgets/base",
            "_view_module_version": "1.2.0",
            "_view_name": "StyleView",
            "description_width": ""
          }
        },
        "9feca99a0eac4a67a4bc53e8b52793a2": {
          "model_module": "@jupyter-widgets/base",
          "model_module_version": "1.2.0",
          "model_name": "LayoutModel",
          "state": {
            "_model_module": "@jupyter-widgets/base",
            "_model_module_version": "1.2.0",
            "_model_name": "LayoutModel",
            "_view_count": null,
            "_view_module": "@jupyter-widgets/base",
            "_view_module_version": "1.2.0",
            "_view_name": "LayoutView",
            "align_content": null,
            "align_items": null,
            "align_self": null,
            "border": null,
            "bottom": null,
            "display": null,
            "flex": null,
            "flex_flow": null,
            "grid_area": null,
            "grid_auto_columns": null,
            "grid_auto_flow": null,
            "grid_auto_rows": null,
            "grid_column": null,
            "grid_gap": null,
            "grid_row": null,
            "grid_template_areas": null,
            "grid_template_columns": null,
            "grid_template_rows": null,
            "height": null,
            "justify_content": null,
            "justify_items": null,
            "left": null,
            "margin": null,
            "max_height": null,
            "max_width": null,
            "min_height": null,
            "min_width": null,
            "object_fit": null,
            "object_position": null,
            "order": null,
            "overflow": null,
            "overflow_x": null,
            "overflow_y": null,
            "padding": null,
            "right": null,
            "top": null,
            "visibility": null,
            "width": null
          }
        },
        "a6e9327f4cb94bb68595f24c0c05ce81": {
          "model_module": "@jupyter-widgets/base",
          "model_module_version": "1.2.0",
          "model_name": "LayoutModel",
          "state": {
            "_model_module": "@jupyter-widgets/base",
            "_model_module_version": "1.2.0",
            "_model_name": "LayoutModel",
            "_view_count": null,
            "_view_module": "@jupyter-widgets/base",
            "_view_module_version": "1.2.0",
            "_view_name": "LayoutView",
            "align_content": null,
            "align_items": null,
            "align_self": null,
            "border": null,
            "bottom": null,
            "display": null,
            "flex": null,
            "flex_flow": null,
            "grid_area": null,
            "grid_auto_columns": null,
            "grid_auto_flow": null,
            "grid_auto_rows": null,
            "grid_column": null,
            "grid_gap": null,
            "grid_row": null,
            "grid_template_areas": null,
            "grid_template_columns": null,
            "grid_template_rows": null,
            "height": null,
            "justify_content": null,
            "justify_items": null,
            "left": null,
            "margin": null,
            "max_height": null,
            "max_width": null,
            "min_height": null,
            "min_width": null,
            "object_fit": null,
            "object_position": null,
            "order": null,
            "overflow": null,
            "overflow_x": null,
            "overflow_y": null,
            "padding": null,
            "right": null,
            "top": null,
            "visibility": null,
            "width": null
          }
        },
        "a89266c1a2a44215922242a145e5f697": {
          "model_module": "@jupyter-widgets/controls",
          "model_module_version": "1.5.0",
          "model_name": "FloatProgressModel",
          "state": {
            "_dom_classes": [],
            "_model_module": "@jupyter-widgets/controls",
            "_model_module_version": "1.5.0",
            "_model_name": "FloatProgressModel",
            "_view_count": null,
            "_view_module": "@jupyter-widgets/controls",
            "_view_module_version": "1.5.0",
            "_view_name": "ProgressView",
            "bar_style": "success",
            "description": "Batches: 100%",
            "description_tooltip": null,
            "layout": "IPY_MODEL_143940feda034ae9bb0fecfd2d280f16",
            "max": 47,
            "min": 0,
            "orientation": "horizontal",
            "style": "IPY_MODEL_5b6677b79ba6436b97773d68602d09b7",
            "value": 47
          }
        },
        "a995330792ae45358c576b0c5d2f66b7": {
          "model_module": "@jupyter-widgets/base",
          "model_module_version": "1.2.0",
          "model_name": "LayoutModel",
          "state": {
            "_model_module": "@jupyter-widgets/base",
            "_model_module_version": "1.2.0",
            "_model_name": "LayoutModel",
            "_view_count": null,
            "_view_module": "@jupyter-widgets/base",
            "_view_module_version": "1.2.0",
            "_view_name": "LayoutView",
            "align_content": null,
            "align_items": null,
            "align_self": null,
            "border": null,
            "bottom": null,
            "display": null,
            "flex": null,
            "flex_flow": null,
            "grid_area": null,
            "grid_auto_columns": null,
            "grid_auto_flow": null,
            "grid_auto_rows": null,
            "grid_column": null,
            "grid_gap": null,
            "grid_row": null,
            "grid_template_areas": null,
            "grid_template_columns": null,
            "grid_template_rows": null,
            "height": null,
            "justify_content": null,
            "justify_items": null,
            "left": null,
            "margin": null,
            "max_height": null,
            "max_width": null,
            "min_height": null,
            "min_width": null,
            "object_fit": null,
            "object_position": null,
            "order": null,
            "overflow": null,
            "overflow_x": null,
            "overflow_y": null,
            "padding": null,
            "right": null,
            "top": null,
            "visibility": null,
            "width": null
          }
        },
        "bdaeacfceb1f4e20a397e87353077cf3": {
          "model_module": "@jupyter-widgets/base",
          "model_module_version": "1.2.0",
          "model_name": "LayoutModel",
          "state": {
            "_model_module": "@jupyter-widgets/base",
            "_model_module_version": "1.2.0",
            "_model_name": "LayoutModel",
            "_view_count": null,
            "_view_module": "@jupyter-widgets/base",
            "_view_module_version": "1.2.0",
            "_view_name": "LayoutView",
            "align_content": null,
            "align_items": null,
            "align_self": null,
            "border": null,
            "bottom": null,
            "display": null,
            "flex": null,
            "flex_flow": null,
            "grid_area": null,
            "grid_auto_columns": null,
            "grid_auto_flow": null,
            "grid_auto_rows": null,
            "grid_column": null,
            "grid_gap": null,
            "grid_row": null,
            "grid_template_areas": null,
            "grid_template_columns": null,
            "grid_template_rows": null,
            "height": null,
            "justify_content": null,
            "justify_items": null,
            "left": null,
            "margin": null,
            "max_height": null,
            "max_width": null,
            "min_height": null,
            "min_width": null,
            "object_fit": null,
            "object_position": null,
            "order": null,
            "overflow": null,
            "overflow_x": null,
            "overflow_y": null,
            "padding": null,
            "right": null,
            "top": null,
            "visibility": null,
            "width": null
          }
        },
        "c32f15946fba4fe286157a0986637496": {
          "model_module": "@jupyter-widgets/controls",
          "model_module_version": "1.5.0",
          "model_name": "ProgressStyleModel",
          "state": {
            "_model_module": "@jupyter-widgets/controls",
            "_model_module_version": "1.5.0",
            "_model_name": "ProgressStyleModel",
            "_view_count": null,
            "_view_module": "@jupyter-widgets/base",
            "_view_module_version": "1.2.0",
            "_view_name": "StyleView",
            "bar_color": null,
            "description_width": "initial"
          }
        },
        "c8ced75b6d4a48cd94ce424e985d8f00": {
          "model_module": "@jupyter-widgets/controls",
          "model_module_version": "1.5.0",
          "model_name": "ProgressStyleModel",
          "state": {
            "_model_module": "@jupyter-widgets/controls",
            "_model_module_version": "1.5.0",
            "_model_name": "ProgressStyleModel",
            "_view_count": null,
            "_view_module": "@jupyter-widgets/base",
            "_view_module_version": "1.2.0",
            "_view_name": "StyleView",
            "bar_color": null,
            "description_width": "initial"
          }
        },
        "ca5ad7176fec4d569e0dfca78f077961": {
          "model_module": "@jupyter-widgets/controls",
          "model_module_version": "1.5.0",
          "model_name": "FloatProgressModel",
          "state": {
            "_dom_classes": [],
            "_model_module": "@jupyter-widgets/controls",
            "_model_module_version": "1.5.0",
            "_model_name": "FloatProgressModel",
            "_view_count": null,
            "_view_module": "@jupyter-widgets/controls",
            "_view_module_version": "1.5.0",
            "_view_name": "ProgressView",
            "bar_style": "success",
            "description": "Batches: 100%",
            "description_tooltip": null,
            "layout": "IPY_MODEL_cf2d1a5a1d3b45e8a66d599aa58914d8",
            "max": 41,
            "min": 0,
            "orientation": "horizontal",
            "style": "IPY_MODEL_8af12510a59545e789896d6e409c9647",
            "value": 41
          }
        },
        "cbc087909f8245ee88fed6acd02cad41": {
          "model_module": "@jupyter-widgets/controls",
          "model_module_version": "1.5.0",
          "model_name": "HTMLModel",
          "state": {
            "_dom_classes": [],
            "_model_module": "@jupyter-widgets/controls",
            "_model_module_version": "1.5.0",
            "_model_name": "HTMLModel",
            "_view_count": null,
            "_view_module": "@jupyter-widgets/controls",
            "_view_module_version": "1.5.0",
            "_view_name": "HTMLView",
            "description": "",
            "description_tooltip": null,
            "layout": "IPY_MODEL_96951650b0ea43319eed1c092a09d80c",
            "placeholder": "​",
            "style": "IPY_MODEL_98bb02dd10a44e18824bda49783e1f04",
            "value": " 3/3 [00:14&lt;00:00,  4.73s/it]"
          }
        },
        "cf2d1a5a1d3b45e8a66d599aa58914d8": {
          "model_module": "@jupyter-widgets/base",
          "model_module_version": "1.2.0",
          "model_name": "LayoutModel",
          "state": {
            "_model_module": "@jupyter-widgets/base",
            "_model_module_version": "1.2.0",
            "_model_name": "LayoutModel",
            "_view_count": null,
            "_view_module": "@jupyter-widgets/base",
            "_view_module_version": "1.2.0",
            "_view_name": "LayoutView",
            "align_content": null,
            "align_items": null,
            "align_self": null,
            "border": null,
            "bottom": null,
            "display": null,
            "flex": null,
            "flex_flow": null,
            "grid_area": null,
            "grid_auto_columns": null,
            "grid_auto_flow": null,
            "grid_auto_rows": null,
            "grid_column": null,
            "grid_gap": null,
            "grid_row": null,
            "grid_template_areas": null,
            "grid_template_columns": null,
            "grid_template_rows": null,
            "height": null,
            "justify_content": null,
            "justify_items": null,
            "left": null,
            "margin": null,
            "max_height": null,
            "max_width": null,
            "min_height": null,
            "min_width": null,
            "object_fit": null,
            "object_position": null,
            "order": null,
            "overflow": null,
            "overflow_x": null,
            "overflow_y": null,
            "padding": null,
            "right": null,
            "top": null,
            "visibility": null,
            "width": null
          }
        },
        "d09db2ff674b49f68c56e0443e992d41": {
          "model_module": "@jupyter-widgets/controls",
          "model_module_version": "1.5.0",
          "model_name": "FloatProgressModel",
          "state": {
            "_dom_classes": [],
            "_model_module": "@jupyter-widgets/controls",
            "_model_module_version": "1.5.0",
            "_model_name": "FloatProgressModel",
            "_view_count": null,
            "_view_module": "@jupyter-widgets/controls",
            "_view_module_version": "1.5.0",
            "_view_name": "ProgressView",
            "bar_style": "success",
            "description": "Batches: 100%",
            "description_tooltip": null,
            "layout": "IPY_MODEL_02e82d44f0de4ceea6d7a3fb6a386884",
            "max": 3,
            "min": 0,
            "orientation": "horizontal",
            "style": "IPY_MODEL_c32f15946fba4fe286157a0986637496",
            "value": 3
          }
        },
        "d23c27d7b9e24fa6a98c990d80e9bc6e": {
          "model_module": "@jupyter-widgets/base",
          "model_module_version": "1.2.0",
          "model_name": "LayoutModel",
          "state": {
            "_model_module": "@jupyter-widgets/base",
            "_model_module_version": "1.2.0",
            "_model_name": "LayoutModel",
            "_view_count": null,
            "_view_module": "@jupyter-widgets/base",
            "_view_module_version": "1.2.0",
            "_view_name": "LayoutView",
            "align_content": null,
            "align_items": null,
            "align_self": null,
            "border": null,
            "bottom": null,
            "display": null,
            "flex": null,
            "flex_flow": null,
            "grid_area": null,
            "grid_auto_columns": null,
            "grid_auto_flow": null,
            "grid_auto_rows": null,
            "grid_column": null,
            "grid_gap": null,
            "grid_row": null,
            "grid_template_areas": null,
            "grid_template_columns": null,
            "grid_template_rows": null,
            "height": null,
            "justify_content": null,
            "justify_items": null,
            "left": null,
            "margin": null,
            "max_height": null,
            "max_width": null,
            "min_height": null,
            "min_width": null,
            "object_fit": null,
            "object_position": null,
            "order": null,
            "overflow": null,
            "overflow_x": null,
            "overflow_y": null,
            "padding": null,
            "right": null,
            "top": null,
            "visibility": null,
            "width": null
          }
        },
        "da22bfc0bf924a6aa6094b50a0ca69ee": {
          "model_module": "@jupyter-widgets/base",
          "model_module_version": "1.2.0",
          "model_name": "LayoutModel",
          "state": {
            "_model_module": "@jupyter-widgets/base",
            "_model_module_version": "1.2.0",
            "_model_name": "LayoutModel",
            "_view_count": null,
            "_view_module": "@jupyter-widgets/base",
            "_view_module_version": "1.2.0",
            "_view_name": "LayoutView",
            "align_content": null,
            "align_items": null,
            "align_self": null,
            "border": null,
            "bottom": null,
            "display": null,
            "flex": null,
            "flex_flow": null,
            "grid_area": null,
            "grid_auto_columns": null,
            "grid_auto_flow": null,
            "grid_auto_rows": null,
            "grid_column": null,
            "grid_gap": null,
            "grid_row": null,
            "grid_template_areas": null,
            "grid_template_columns": null,
            "grid_template_rows": null,
            "height": null,
            "justify_content": null,
            "justify_items": null,
            "left": null,
            "margin": null,
            "max_height": null,
            "max_width": null,
            "min_height": null,
            "min_width": null,
            "object_fit": null,
            "object_position": null,
            "order": null,
            "overflow": null,
            "overflow_x": null,
            "overflow_y": null,
            "padding": null,
            "right": null,
            "top": null,
            "visibility": null,
            "width": null
          }
        },
        "df04b30fa03b4b71ac8045e346b41d93": {
          "model_module": "@jupyter-widgets/controls",
          "model_module_version": "1.5.0",
          "model_name": "FloatProgressModel",
          "state": {
            "_dom_classes": [],
            "_model_module": "@jupyter-widgets/controls",
            "_model_module_version": "1.5.0",
            "_model_name": "FloatProgressModel",
            "_view_count": null,
            "_view_module": "@jupyter-widgets/controls",
            "_view_module_version": "1.5.0",
            "_view_name": "ProgressView",
            "bar_style": "success",
            "description": "100%",
            "description_tooltip": null,
            "layout": "IPY_MODEL_bdaeacfceb1f4e20a397e87353077cf3",
            "max": 464705670,
            "min": 0,
            "orientation": "horizontal",
            "style": "IPY_MODEL_c8ced75b6d4a48cd94ce424e985d8f00",
            "value": 464705670
          }
        },
        "e131bdb7a65c478c80e885fdd176c91d": {
          "model_module": "@jupyter-widgets/controls",
          "model_module_version": "1.5.0",
          "model_name": "HBoxModel",
          "state": {
            "_dom_classes": [],
            "_model_module": "@jupyter-widgets/controls",
            "_model_module_version": "1.5.0",
            "_model_name": "HBoxModel",
            "_view_count": null,
            "_view_module": "@jupyter-widgets/controls",
            "_view_module_version": "1.5.0",
            "_view_name": "HBoxView",
            "box_style": "",
            "children": [
              "IPY_MODEL_d09db2ff674b49f68c56e0443e992d41",
              "IPY_MODEL_cbc087909f8245ee88fed6acd02cad41"
            ],
            "layout": "IPY_MODEL_8d7f27371ce445079a7f4d967f509684"
          }
        },
        "e1a77c1636ae43ceb0c93e9a57196d68": {
          "model_module": "@jupyter-widgets/controls",
          "model_module_version": "1.5.0",
          "model_name": "HBoxModel",
          "state": {
            "_dom_classes": [],
            "_model_module": "@jupyter-widgets/controls",
            "_model_module_version": "1.5.0",
            "_model_name": "HBoxModel",
            "_view_count": null,
            "_view_module": "@jupyter-widgets/controls",
            "_view_module_version": "1.5.0",
            "_view_name": "HBoxView",
            "box_style": "",
            "children": [
              "IPY_MODEL_ca5ad7176fec4d569e0dfca78f077961",
              "IPY_MODEL_34ce6ee1956d4b93bf04fcf3bca0d195"
            ],
            "layout": "IPY_MODEL_da22bfc0bf924a6aa6094b50a0ca69ee"
          }
        },
        "f3137b91d05d4cdcbfbd9e272da1c435": {
          "model_module": "@jupyter-widgets/controls",
          "model_module_version": "1.5.0",
          "model_name": "DescriptionStyleModel",
          "state": {
            "_model_module": "@jupyter-widgets/controls",
            "_model_module_version": "1.5.0",
            "_model_name": "DescriptionStyleModel",
            "_view_count": null,
            "_view_module": "@jupyter-widgets/base",
            "_view_module_version": "1.2.0",
            "_view_name": "StyleView",
            "description_width": ""
          }
        },
        "f39b5446bb0e4da3a7ef3a95d2ab0b69": {
          "model_module": "@jupyter-widgets/controls",
          "model_module_version": "1.5.0",
          "model_name": "DescriptionStyleModel",
          "state": {
            "_model_module": "@jupyter-widgets/controls",
            "_model_module_version": "1.5.0",
            "_model_name": "DescriptionStyleModel",
            "_view_count": null,
            "_view_module": "@jupyter-widgets/base",
            "_view_module_version": "1.2.0",
            "_view_name": "StyleView",
            "description_width": ""
          }
        },
        "fe53b820fc90428ea5f6b715c3051b7f": {
          "model_module": "@jupyter-widgets/base",
          "model_module_version": "1.2.0",
          "model_name": "LayoutModel",
          "state": {
            "_model_module": "@jupyter-widgets/base",
            "_model_module_version": "1.2.0",
            "_model_name": "LayoutModel",
            "_view_count": null,
            "_view_module": "@jupyter-widgets/base",
            "_view_module_version": "1.2.0",
            "_view_name": "LayoutView",
            "align_content": null,
            "align_items": null,
            "align_self": null,
            "border": null,
            "bottom": null,
            "display": null,
            "flex": null,
            "flex_flow": null,
            "grid_area": null,
            "grid_auto_columns": null,
            "grid_auto_flow": null,
            "grid_auto_rows": null,
            "grid_column": null,
            "grid_gap": null,
            "grid_row": null,
            "grid_template_areas": null,
            "grid_template_columns": null,
            "grid_template_rows": null,
            "height": null,
            "justify_content": null,
            "justify_items": null,
            "left": null,
            "margin": null,
            "max_height": null,
            "max_width": null,
            "min_height": null,
            "min_width": null,
            "object_fit": null,
            "object_position": null,
            "order": null,
            "overflow": null,
            "overflow_x": null,
            "overflow_y": null,
            "padding": null,
            "right": null,
            "top": null,
            "visibility": null,
            "width": null
          }
        }
      }
    }
  },
  "nbformat": 4,
  "nbformat_minor": 0
}
